{
 "cells": [
  {
   "cell_type": "code",
   "execution_count": 27,
   "id": "158c71f5",
   "metadata": {},
   "outputs": [],
   "source": [
    "import pandas as pd\n",
    "import numpy as np\n",
    "import matplotlib.pyplot as plt\n",
    "import seaborn as sns\n",
    "from   scipy.stats        import    chi2_contingency\n",
    "from   scipy.stats               import ttest_1samp, ttest_ind\n",
    "import scipy.stats as stats\n",
    "from scipy import stats"
   ]
  },
  {
   "cell_type": "code",
   "execution_count": 28,
   "id": "6aca0d88",
   "metadata": {},
   "outputs": [
    {
     "data": {
      "text/html": [
       "<div>\n",
       "<style scoped>\n",
       "    .dataframe tbody tr th:only-of-type {\n",
       "        vertical-align: middle;\n",
       "    }\n",
       "\n",
       "    .dataframe tbody tr th {\n",
       "        vertical-align: top;\n",
       "    }\n",
       "\n",
       "    .dataframe thead th {\n",
       "        text-align: right;\n",
       "    }\n",
       "</style>\n",
       "<table border=\"1\" class=\"dataframe\">\n",
       "  <thead>\n",
       "    <tr style=\"text-align: right;\">\n",
       "      <th></th>\n",
       "      <th>ID</th>\n",
       "      <th>Gender</th>\n",
       "      <th>Age</th>\n",
       "      <th>Class</th>\n",
       "      <th>Major</th>\n",
       "      <th>Grad Intention</th>\n",
       "      <th>GPA</th>\n",
       "      <th>Employment</th>\n",
       "      <th>Salary</th>\n",
       "      <th>Social Networking</th>\n",
       "      <th>Satisfaction</th>\n",
       "      <th>Spending</th>\n",
       "      <th>Computer</th>\n",
       "      <th>Text Messages</th>\n",
       "    </tr>\n",
       "  </thead>\n",
       "  <tbody>\n",
       "    <tr>\n",
       "      <th>0</th>\n",
       "      <td>1</td>\n",
       "      <td>Female</td>\n",
       "      <td>20</td>\n",
       "      <td>Junior</td>\n",
       "      <td>Other</td>\n",
       "      <td>Yes</td>\n",
       "      <td>2.9</td>\n",
       "      <td>Full-Time</td>\n",
       "      <td>50.0</td>\n",
       "      <td>1</td>\n",
       "      <td>3</td>\n",
       "      <td>350</td>\n",
       "      <td>Laptop</td>\n",
       "      <td>200</td>\n",
       "    </tr>\n",
       "    <tr>\n",
       "      <th>1</th>\n",
       "      <td>2</td>\n",
       "      <td>Male</td>\n",
       "      <td>23</td>\n",
       "      <td>Senior</td>\n",
       "      <td>Management</td>\n",
       "      <td>Yes</td>\n",
       "      <td>3.6</td>\n",
       "      <td>Part-Time</td>\n",
       "      <td>25.0</td>\n",
       "      <td>1</td>\n",
       "      <td>4</td>\n",
       "      <td>360</td>\n",
       "      <td>Laptop</td>\n",
       "      <td>50</td>\n",
       "    </tr>\n",
       "    <tr>\n",
       "      <th>2</th>\n",
       "      <td>3</td>\n",
       "      <td>Male</td>\n",
       "      <td>21</td>\n",
       "      <td>Junior</td>\n",
       "      <td>Other</td>\n",
       "      <td>Yes</td>\n",
       "      <td>2.5</td>\n",
       "      <td>Part-Time</td>\n",
       "      <td>45.0</td>\n",
       "      <td>2</td>\n",
       "      <td>4</td>\n",
       "      <td>600</td>\n",
       "      <td>Laptop</td>\n",
       "      <td>200</td>\n",
       "    </tr>\n",
       "    <tr>\n",
       "      <th>3</th>\n",
       "      <td>4</td>\n",
       "      <td>Male</td>\n",
       "      <td>21</td>\n",
       "      <td>Junior</td>\n",
       "      <td>CIS</td>\n",
       "      <td>Yes</td>\n",
       "      <td>2.5</td>\n",
       "      <td>Full-Time</td>\n",
       "      <td>40.0</td>\n",
       "      <td>4</td>\n",
       "      <td>6</td>\n",
       "      <td>600</td>\n",
       "      <td>Laptop</td>\n",
       "      <td>250</td>\n",
       "    </tr>\n",
       "    <tr>\n",
       "      <th>4</th>\n",
       "      <td>5</td>\n",
       "      <td>Male</td>\n",
       "      <td>23</td>\n",
       "      <td>Senior</td>\n",
       "      <td>Other</td>\n",
       "      <td>Undecided</td>\n",
       "      <td>2.8</td>\n",
       "      <td>Unemployed</td>\n",
       "      <td>40.0</td>\n",
       "      <td>2</td>\n",
       "      <td>4</td>\n",
       "      <td>500</td>\n",
       "      <td>Laptop</td>\n",
       "      <td>100</td>\n",
       "    </tr>\n",
       "    <tr>\n",
       "      <th>...</th>\n",
       "      <td>...</td>\n",
       "      <td>...</td>\n",
       "      <td>...</td>\n",
       "      <td>...</td>\n",
       "      <td>...</td>\n",
       "      <td>...</td>\n",
       "      <td>...</td>\n",
       "      <td>...</td>\n",
       "      <td>...</td>\n",
       "      <td>...</td>\n",
       "      <td>...</td>\n",
       "      <td>...</td>\n",
       "      <td>...</td>\n",
       "      <td>...</td>\n",
       "    </tr>\n",
       "    <tr>\n",
       "      <th>57</th>\n",
       "      <td>58</td>\n",
       "      <td>Female</td>\n",
       "      <td>21</td>\n",
       "      <td>Senior</td>\n",
       "      <td>International Business</td>\n",
       "      <td>No</td>\n",
       "      <td>2.4</td>\n",
       "      <td>Part-Time</td>\n",
       "      <td>40.0</td>\n",
       "      <td>1</td>\n",
       "      <td>3</td>\n",
       "      <td>1000</td>\n",
       "      <td>Laptop</td>\n",
       "      <td>10</td>\n",
       "    </tr>\n",
       "    <tr>\n",
       "      <th>58</th>\n",
       "      <td>59</td>\n",
       "      <td>Female</td>\n",
       "      <td>20</td>\n",
       "      <td>Junior</td>\n",
       "      <td>CIS</td>\n",
       "      <td>No</td>\n",
       "      <td>2.9</td>\n",
       "      <td>Part-Time</td>\n",
       "      <td>40.0</td>\n",
       "      <td>2</td>\n",
       "      <td>4</td>\n",
       "      <td>350</td>\n",
       "      <td>Laptop</td>\n",
       "      <td>250</td>\n",
       "    </tr>\n",
       "    <tr>\n",
       "      <th>59</th>\n",
       "      <td>60</td>\n",
       "      <td>Female</td>\n",
       "      <td>20</td>\n",
       "      <td>Sophomore</td>\n",
       "      <td>CIS</td>\n",
       "      <td>No</td>\n",
       "      <td>2.5</td>\n",
       "      <td>Part-Time</td>\n",
       "      <td>55.0</td>\n",
       "      <td>1</td>\n",
       "      <td>4</td>\n",
       "      <td>500</td>\n",
       "      <td>Laptop</td>\n",
       "      <td>500</td>\n",
       "    </tr>\n",
       "    <tr>\n",
       "      <th>60</th>\n",
       "      <td>61</td>\n",
       "      <td>Female</td>\n",
       "      <td>23</td>\n",
       "      <td>Senior</td>\n",
       "      <td>Accounting</td>\n",
       "      <td>Yes</td>\n",
       "      <td>3.5</td>\n",
       "      <td>Part-Time</td>\n",
       "      <td>30.0</td>\n",
       "      <td>2</td>\n",
       "      <td>3</td>\n",
       "      <td>490</td>\n",
       "      <td>Laptop</td>\n",
       "      <td>50</td>\n",
       "    </tr>\n",
       "    <tr>\n",
       "      <th>61</th>\n",
       "      <td>62</td>\n",
       "      <td>Female</td>\n",
       "      <td>23</td>\n",
       "      <td>Senior</td>\n",
       "      <td>Economics/Finance</td>\n",
       "      <td>No</td>\n",
       "      <td>3.2</td>\n",
       "      <td>Part-Time</td>\n",
       "      <td>70.0</td>\n",
       "      <td>2</td>\n",
       "      <td>3</td>\n",
       "      <td>250</td>\n",
       "      <td>Laptop</td>\n",
       "      <td>0</td>\n",
       "    </tr>\n",
       "  </tbody>\n",
       "</table>\n",
       "<p>62 rows × 14 columns</p>\n",
       "</div>"
      ],
      "text/plain": [
       "    ID  Gender  Age      Class                   Major Grad Intention  GPA  \\\n",
       "0    1  Female   20     Junior                   Other            Yes  2.9   \n",
       "1    2    Male   23     Senior              Management            Yes  3.6   \n",
       "2    3    Male   21     Junior                   Other            Yes  2.5   \n",
       "3    4    Male   21     Junior                     CIS            Yes  2.5   \n",
       "4    5    Male   23     Senior                   Other      Undecided  2.8   \n",
       "..  ..     ...  ...        ...                     ...            ...  ...   \n",
       "57  58  Female   21     Senior  International Business             No  2.4   \n",
       "58  59  Female   20     Junior                     CIS             No  2.9   \n",
       "59  60  Female   20  Sophomore                     CIS             No  2.5   \n",
       "60  61  Female   23     Senior              Accounting            Yes  3.5   \n",
       "61  62  Female   23     Senior       Economics/Finance             No  3.2   \n",
       "\n",
       "    Employment  Salary  Social Networking  Satisfaction  Spending Computer  \\\n",
       "0    Full-Time    50.0                  1             3       350   Laptop   \n",
       "1    Part-Time    25.0                  1             4       360   Laptop   \n",
       "2    Part-Time    45.0                  2             4       600   Laptop   \n",
       "3    Full-Time    40.0                  4             6       600   Laptop   \n",
       "4   Unemployed    40.0                  2             4       500   Laptop   \n",
       "..         ...     ...                ...           ...       ...      ...   \n",
       "57   Part-Time    40.0                  1             3      1000   Laptop   \n",
       "58   Part-Time    40.0                  2             4       350   Laptop   \n",
       "59   Part-Time    55.0                  1             4       500   Laptop   \n",
       "60   Part-Time    30.0                  2             3       490   Laptop   \n",
       "61   Part-Time    70.0                  2             3       250   Laptop   \n",
       "\n",
       "    Text Messages  \n",
       "0             200  \n",
       "1              50  \n",
       "2             200  \n",
       "3             250  \n",
       "4             100  \n",
       "..            ...  \n",
       "57             10  \n",
       "58            250  \n",
       "59            500  \n",
       "60             50  \n",
       "61              0  \n",
       "\n",
       "[62 rows x 14 columns]"
      ]
     },
     "execution_count": 28,
     "metadata": {},
     "output_type": "execute_result"
    }
   ],
   "source": [
    "dataframe = pd.read_csv('Survey-1.csv')\n",
    "dataframe.head(62)"
   ]
  },
  {
   "cell_type": "code",
   "execution_count": 29,
   "id": "657c6f18",
   "metadata": {},
   "outputs": [
    {
     "name": "stdout",
     "output_type": "stream",
     "text": [
      "<class 'pandas.core.frame.DataFrame'>\n",
      "RangeIndex: 62 entries, 0 to 61\n",
      "Data columns (total 14 columns):\n",
      " #   Column             Non-Null Count  Dtype  \n",
      "---  ------             --------------  -----  \n",
      " 0   ID                 62 non-null     int64  \n",
      " 1   Gender             62 non-null     object \n",
      " 2   Age                62 non-null     int64  \n",
      " 3   Class              62 non-null     object \n",
      " 4   Major              62 non-null     object \n",
      " 5   Grad Intention     62 non-null     object \n",
      " 6   GPA                62 non-null     float64\n",
      " 7   Employment         62 non-null     object \n",
      " 8   Salary             62 non-null     float64\n",
      " 9   Social Networking  62 non-null     int64  \n",
      " 10  Satisfaction       62 non-null     int64  \n",
      " 11  Spending           62 non-null     int64  \n",
      " 12  Computer           62 non-null     object \n",
      " 13  Text Messages      62 non-null     int64  \n",
      "dtypes: float64(2), int64(6), object(6)\n",
      "memory usage: 6.9+ KB\n"
     ]
    }
   ],
   "source": [
    "dataframe.info()"
   ]
  },
  {
   "cell_type": "markdown",
   "id": "454eace7",
   "metadata": {},
   "source": [
    "# 1.1. What is the probability that a randomly selected CMSU student will be male?    "
   ]
  },
  {
   "cell_type": "code",
   "execution_count": 30,
   "id": "6a9030d2",
   "metadata": {},
   "outputs": [
    {
     "data": {
      "text/plain": [
       "0     Female\n",
       "1       Male\n",
       "2       Male\n",
       "3       Male\n",
       "4       Male\n",
       "       ...  \n",
       "57    Female\n",
       "58    Female\n",
       "59    Female\n",
       "60    Female\n",
       "61    Female\n",
       "Name: Gender, Length: 62, dtype: object"
      ]
     },
     "execution_count": 30,
     "metadata": {},
     "output_type": "execute_result"
    }
   ],
   "source": [
    "dataframe['Gender']"
   ]
  },
  {
   "cell_type": "code",
   "execution_count": 31,
   "id": "303cb3d7",
   "metadata": {},
   "outputs": [
    {
     "data": {
      "text/plain": [
       "Female    33\n",
       "Male      29\n",
       "Name: Gender, dtype: int64"
      ]
     },
     "execution_count": 31,
     "metadata": {},
     "output_type": "execute_result"
    }
   ],
   "source": [
    "dataframe['Gender'].value_counts()"
   ]
  },
  {
   "cell_type": "code",
   "execution_count": 32,
   "id": "e5559b7b",
   "metadata": {},
   "outputs": [
    {
     "name": "stdout",
     "output_type": "stream",
     "text": [
      "Probability of selected male student is 46.77\n"
     ]
    }
   ],
   "source": [
    "Total_counts = 62\n",
    "Male = 29\n",
    "    \n",
    "Total_male_student = round(Male/Total_counts,4)*100\n",
    "print('Probability of selected male student is',Total_male_student)"
   ]
  },
  {
   "cell_type": "markdown",
   "id": "83166243",
   "metadata": {},
   "source": [
    "# 1.2. What is the probability that a randomly selected CMSU student will be female?"
   ]
  },
  {
   "cell_type": "code",
   "execution_count": 33,
   "id": "b6d20f58",
   "metadata": {},
   "outputs": [
    {
     "name": "stdout",
     "output_type": "stream",
     "text": [
      "Probability of selected Female student is 53.23\n"
     ]
    }
   ],
   "source": [
    "Total_counts = 62\n",
    "Female = 33\n",
    "\n",
    "Total_female_student = round(Female/Total_counts,4)*100\n",
    "print('Probability of selected Female student is',Total_female_student)"
   ]
  },
  {
   "cell_type": "markdown",
   "id": "0aaf9776",
   "metadata": {},
   "source": [
    "# 1.3. What is the conditional probability of different majors among the male students in CMSU?"
   ]
  },
  {
   "cell_type": "code",
   "execution_count": 34,
   "id": "9c3f3f5d",
   "metadata": {},
   "outputs": [
    {
     "data": {
      "text/plain": [
       "Retailing/Marketing       14\n",
       "Economics/Finance         11\n",
       "Management                10\n",
       "Other                      7\n",
       "Accounting                 7\n",
       "International Business     6\n",
       "CIS                        4\n",
       "Undecided                  3\n",
       "Name: Major, dtype: int64"
      ]
     },
     "execution_count": 34,
     "metadata": {},
     "output_type": "execute_result"
    }
   ],
   "source": [
    "dataframe['Major'].value_counts()"
   ]
  },
  {
   "cell_type": "code",
   "execution_count": 35,
   "id": "2bb9247c",
   "metadata": {},
   "outputs": [],
   "source": [
    "# We can use the function to a male student in gender\n",
    "male_students = dataframe[dataframe['Gender'] == 'Male']"
   ]
  },
  {
   "cell_type": "code",
   "execution_count": 36,
   "id": "0a3d6b9b",
   "metadata": {},
   "outputs": [],
   "source": [
    "major_counts_male = male_students['Major'].value_counts()"
   ]
  },
  {
   "cell_type": "code",
   "execution_count": 37,
   "id": "175ebe57",
   "metadata": {},
   "outputs": [
    {
     "data": {
      "text/plain": [
       "Management                6\n",
       "Retailing/Marketing       5\n",
       "Other                     4\n",
       "Economics/Finance         4\n",
       "Accounting                4\n",
       "Undecided                 3\n",
       "International Business    2\n",
       "CIS                       1\n",
       "Name: Major, dtype: int64"
      ]
     },
     "execution_count": 37,
     "metadata": {},
     "output_type": "execute_result"
    }
   ],
   "source": [
    "major_counts_male"
   ]
  },
  {
   "cell_type": "markdown",
   "id": "9af32de5",
   "metadata": {},
   "source": [
    "# NOW LET'S LOOK AT THE MALE STUDENT IN EACH GROUP"
   ]
  },
  {
   "cell_type": "code",
   "execution_count": 38,
   "id": "1ea2442e",
   "metadata": {},
   "outputs": [
    {
     "name": "stdout",
     "output_type": "stream",
     "text": [
      "Probability of management majors among the male students in CMSU is 20.7\n"
     ]
    }
   ],
   "source": [
    "#conditional_prob = count of each major in male student/Total_male_student\n",
    "Management = 6\n",
    "Total_male = 29\n",
    "Conditional_prob = round(Management/Total_male,3)*100\n",
    "print('Probability of management majors among the male students in CMSU is',Conditional_prob)"
   ]
  },
  {
   "cell_type": "code",
   "execution_count": 39,
   "id": "f9f2db00",
   "metadata": {},
   "outputs": [
    {
     "name": "stdout",
     "output_type": "stream",
     "text": [
      "Probability marketing majors among the male students in CMSU is 17.2\n"
     ]
    }
   ],
   "source": [
    "Marketing = 5\n",
    "Total_male = 29\n",
    "Conditional_prob = round(Marketing/Total_male,3)*100\n",
    "print('Probability marketing majors among the male students in CMSU is',Conditional_prob)"
   ]
  },
  {
   "cell_type": "code",
   "execution_count": 40,
   "id": "a17fc4df",
   "metadata": {},
   "outputs": [
    {
     "name": "stdout",
     "output_type": "stream",
     "text": [
      "Probability majors among the male students in CMSU is 13.8\n"
     ]
    }
   ],
   "source": [
    "Other = 4\n",
    "Total_male = 29\n",
    "Conditional_prob = round(Other/Total_male,3)*100\n",
    "print('Probability majors among the male students in CMSU is',Conditional_prob)"
   ]
  },
  {
   "cell_type": "code",
   "execution_count": 41,
   "id": "980dcc7a",
   "metadata": {},
   "outputs": [
    {
     "name": "stdout",
     "output_type": "stream",
     "text": [
      "Probability economics majors among the male students in CMSU is 13.8\n"
     ]
    }
   ],
   "source": [
    "Economics = 4\n",
    "Total_male = 29\n",
    "Conditional_prob = round(Economics/Total_male,3)*100\n",
    "print('Probability economics majors among the male students in CMSU is',Conditional_prob)"
   ]
  },
  {
   "cell_type": "code",
   "execution_count": 42,
   "id": "b639d478",
   "metadata": {},
   "outputs": [
    {
     "name": "stdout",
     "output_type": "stream",
     "text": [
      "Probability accounting majors among the male students in CMSU is 13.8\n"
     ]
    }
   ],
   "source": [
    "Accounting = 4\n",
    "Total_male = 29\n",
    "Conditional_prob = round(Accounting/Total_male,3)*100\n",
    "print('Probability accounting majors among the male students in CMSU is',Conditional_prob)"
   ]
  },
  {
   "cell_type": "code",
   "execution_count": 43,
   "id": "db4bb007",
   "metadata": {},
   "outputs": [
    {
     "name": "stdout",
     "output_type": "stream",
     "text": [
      "Probability undecided majors among the male students in CMSU  is 10.299999999999999\n"
     ]
    }
   ],
   "source": [
    "Undecided = 3\n",
    "Total_male = 29\n",
    "Conditional_prob = round(Undecided/Total_male,3)*100\n",
    "print('Probability undecided majors among the male students in CMSU  is',Conditional_prob)"
   ]
  },
  {
   "cell_type": "code",
   "execution_count": 44,
   "id": "38a3ed73",
   "metadata": {},
   "outputs": [
    {
     "name": "stdout",
     "output_type": "stream",
     "text": [
      "Probability international Business majors among the male students in CMSU  is 6.9\n"
     ]
    }
   ],
   "source": [
    "International_Business = 2\n",
    "Total_male = 29\n",
    "Conditional_prob = round(International_Business/Total_male,3)*100\n",
    "print('Probability international Business majors among the male students in CMSU  is',Conditional_prob)"
   ]
  },
  {
   "cell_type": "code",
   "execution_count": 45,
   "id": "c13ac971",
   "metadata": {},
   "outputs": [
    {
     "name": "stdout",
     "output_type": "stream",
     "text": [
      "Probability CIS majors among the male students in CMSU  is 3.4000000000000004\n"
     ]
    }
   ],
   "source": [
    "CIS = 1\n",
    "Total_male = 29\n",
    "Conditional_prob = round(CIS/Total_male,3)*100\n",
    "print('Probability CIS majors among the male students in CMSU  is',Conditional_prob)"
   ]
  },
  {
   "cell_type": "markdown",
   "id": "3de3df66",
   "metadata": {},
   "source": [
    "# 1.4. What is the conditional probability of different majors among the female students of CMSU?"
   ]
  },
  {
   "cell_type": "code",
   "execution_count": 46,
   "id": "800780c0",
   "metadata": {},
   "outputs": [
    {
     "data": {
      "text/plain": [
       "Retailing/Marketing       14\n",
       "Economics/Finance         11\n",
       "Management                10\n",
       "Other                      7\n",
       "Accounting                 7\n",
       "International Business     6\n",
       "CIS                        4\n",
       "Undecided                  3\n",
       "Name: Major, dtype: int64"
      ]
     },
     "execution_count": 46,
     "metadata": {},
     "output_type": "execute_result"
    }
   ],
   "source": [
    "dataframe['Major'].value_counts()"
   ]
  },
  {
   "cell_type": "code",
   "execution_count": 47,
   "id": "ba690d31",
   "metadata": {},
   "outputs": [],
   "source": [
    "female_students = dataframe[dataframe['Gender'] == 'Female']"
   ]
  },
  {
   "cell_type": "code",
   "execution_count": 48,
   "id": "e767376e",
   "metadata": {},
   "outputs": [],
   "source": [
    "major_counts_female = female_students['Major'].value_counts()"
   ]
  },
  {
   "cell_type": "code",
   "execution_count": 49,
   "id": "438df1ef",
   "metadata": {},
   "outputs": [
    {
     "data": {
      "text/plain": [
       "Retailing/Marketing       9\n",
       "Economics/Finance         7\n",
       "Management                4\n",
       "International Business    4\n",
       "Other                     3\n",
       "CIS                       3\n",
       "Accounting                3\n",
       "Name: Major, dtype: int64"
      ]
     },
     "execution_count": 49,
     "metadata": {},
     "output_type": "execute_result"
    }
   ],
   "source": [
    "major_counts_female"
   ]
  },
  {
   "cell_type": "code",
   "execution_count": 50,
   "id": "02fc7cf4",
   "metadata": {},
   "outputs": [
    {
     "name": "stdout",
     "output_type": "stream",
     "text": [
      "Probability marketing majors among the female students in CMSU is 27.3\n"
     ]
    }
   ],
   "source": [
    "#conditional_prob = count of each major in male student/Total_male_student\n",
    "Marketing = 9\n",
    "Total_female = 33\n",
    "Conditional_prob = round(Marketing/Total_female,3)*100\n",
    "print('Probability marketing majors among the female students in CMSU is',Conditional_prob)"
   ]
  },
  {
   "cell_type": "code",
   "execution_count": 51,
   "id": "e111a79d",
   "metadata": {},
   "outputs": [
    {
     "name": "stdout",
     "output_type": "stream",
     "text": [
      "Probability economics majors among the female students in CMSU is 21.21\n"
     ]
    }
   ],
   "source": [
    "#conditional_prob = count of each major in male student/Total_male_student\n",
    "Economics = 7\n",
    "Total_female = 33\n",
    "Conditional_prob = round(Economics/Total_female,4)*100\n",
    "print('Probability economics majors among the female students in CMSU is',Conditional_prob)"
   ]
  },
  {
   "cell_type": "code",
   "execution_count": 52,
   "id": "a716aef5",
   "metadata": {},
   "outputs": [
    {
     "name": "stdout",
     "output_type": "stream",
     "text": [
      "Probability management majors among the female students in CMSU is 12.120000000000001\n"
     ]
    }
   ],
   "source": [
    "#conditional_prob = count of each major in male student/Total_male_student\n",
    "Management = 4\n",
    "Total_female = 33\n",
    "Conditional_prob = round(Management/Total_female,4)*100\n",
    "print('Probability management majors among the female students in CMSU is',Conditional_prob)"
   ]
  },
  {
   "cell_type": "code",
   "execution_count": 53,
   "id": "f8767176",
   "metadata": {},
   "outputs": [
    {
     "name": "stdout",
     "output_type": "stream",
     "text": [
      "Probability international Business majors among the female students in CMSU is 12.120000000000001\n"
     ]
    }
   ],
   "source": [
    "#conditional_prob = count of each major in male student/Total_male_student\n",
    "International_Business = 4\n",
    "Total_female = 33\n",
    "Conditional_prob = round(International_Business/Total_female,4)*100\n",
    "print('Probability international Business majors among the female students in CMSU is',Conditional_prob)"
   ]
  },
  {
   "cell_type": "code",
   "execution_count": 54,
   "id": "015b28d4",
   "metadata": {},
   "outputs": [
    {
     "name": "stdout",
     "output_type": "stream",
     "text": [
      "Probability other majors among the female students in CMSU is 9.09\n"
     ]
    }
   ],
   "source": [
    "#conditional_prob = count of each major in male student/Total_male_student\n",
    "Other = 3\n",
    "Total_female = 33\n",
    "Conditional_prob = round(Other/Total_female,4)*100\n",
    "print('Probability other majors among the female students in CMSU is',Conditional_prob)"
   ]
  },
  {
   "cell_type": "code",
   "execution_count": 55,
   "id": "32615d7c",
   "metadata": {},
   "outputs": [
    {
     "name": "stdout",
     "output_type": "stream",
     "text": [
      "Probability CIS majors among the female students in CMSU is 9.09\n"
     ]
    }
   ],
   "source": [
    "#conditional_prob = count of each major in male student/Total_male_student\n",
    "CIS = 3\n",
    "Total_female = 33\n",
    "Conditional_prob = round(CIS/Total_female,4)*100\n",
    "print('Probability CIS majors among the female students in CMSU is',Conditional_prob)"
   ]
  },
  {
   "cell_type": "code",
   "execution_count": 56,
   "id": "135bc95c",
   "metadata": {},
   "outputs": [
    {
     "name": "stdout",
     "output_type": "stream",
     "text": [
      "Probability accounting majors among the female students in CMSU is 9.09\n"
     ]
    }
   ],
   "source": [
    "#conditional_prob = count of each major in male student/Total_male_student\n",
    "Accounting = 3\n",
    "Total_female = 33\n",
    "Conditional_prob = round(Accounting/Total_female,4)*100\n",
    "print('Probability accounting majors among the female students in CMSU is',Conditional_prob)"
   ]
  },
  {
   "cell_type": "markdown",
   "id": "aafb330e",
   "metadata": {},
   "source": [
    "# 1.5. What is the probability That a randomly chosen student is a male and intends to graduate?"
   ]
  },
  {
   "cell_type": "code",
   "execution_count": 57,
   "id": "8db80c7d",
   "metadata": {},
   "outputs": [
    {
     "data": {
      "text/plain": [
       "Yes          28\n",
       "Undecided    22\n",
       "No           12\n",
       "Name: Grad Intention, dtype: int64"
      ]
     },
     "execution_count": 57,
     "metadata": {},
     "output_type": "execute_result"
    }
   ],
   "source": [
    "dataframe['Grad Intention'].value_counts()"
   ]
  },
  {
   "cell_type": "code",
   "execution_count": 58,
   "id": "61c21563",
   "metadata": {},
   "outputs": [],
   "source": [
    "Total_counts = 62\n",
    "Total_Male_student = 29\n",
    "\n",
    "male_students = dataframe[dataframe['Gender'] == 'Male']\n",
    "\n",
    "#Total_male_student = round(Male/Total_counts,4)*100\n",
    "#print('Probability of selected male student is',Total_male_student)"
   ]
  },
  {
   "cell_type": "code",
   "execution_count": 59,
   "id": "f664ce30",
   "metadata": {},
   "outputs": [],
   "source": [
    "inten_grad_male = male_students['Grad Intention'].value_counts()"
   ]
  },
  {
   "cell_type": "code",
   "execution_count": 60,
   "id": "8774b622",
   "metadata": {},
   "outputs": [
    {
     "data": {
      "text/plain": [
       "Yes          17\n",
       "Undecided     9\n",
       "No            3\n",
       "Name: Grad Intention, dtype: int64"
      ]
     },
     "execution_count": 60,
     "metadata": {},
     "output_type": "execute_result"
    }
   ],
   "source": [
    "inten_grad_male"
   ]
  },
  {
   "cell_type": "code",
   "execution_count": 61,
   "id": "d318baa1",
   "metadata": {},
   "outputs": [
    {
     "name": "stdout",
     "output_type": "stream",
     "text": [
      "Probability that a randomly chosen student of male is yes  58.621\n"
     ]
    }
   ],
   "source": [
    "count_yes = 17\n",
    "Total_Male_student = 29\n",
    "prob = round(count_yes/Total_Male_student,5)*100\n",
    "print('Probability that a randomly chosen student of male is yes ',prob)"
   ]
  },
  {
   "cell_type": "code",
   "execution_count": 62,
   "id": "7633a5ba",
   "metadata": {},
   "outputs": [
    {
     "name": "stdout",
     "output_type": "stream",
     "text": [
      "Probability that a randomly chosen student of male is no  10.345\n"
     ]
    }
   ],
   "source": [
    "count_no = 3\n",
    "Total_Male_student = 29\n",
    "prob = round(count_no/Total_Male_student,5)*100\n",
    "print('Probability that a randomly chosen student of male is no ',prob)"
   ]
  },
  {
   "cell_type": "code",
   "execution_count": 63,
   "id": "483426d7",
   "metadata": {},
   "outputs": [
    {
     "name": "stdout",
     "output_type": "stream",
     "text": [
      "Probability that a randomly chosen student of male is undecided  31.034\n"
     ]
    }
   ],
   "source": [
    "Undecided = 9\n",
    "Total_Male_student = 29\n",
    "prob = round(Undecided/Total_Male_student,5)*100\n",
    "print('Probability that a randomly chosen student of male is undecided ',prob)"
   ]
  },
  {
   "cell_type": "markdown",
   "id": "01176b1b",
   "metadata": {},
   "source": [
    "# 1.6. What is the probability that a randomly selected student is a female and does NOT have a laptop?"
   ]
  },
  {
   "cell_type": "code",
   "execution_count": 64,
   "id": "b571a8f4",
   "metadata": {},
   "outputs": [],
   "source": [
    "female_students = dataframe[dataframe['Gender'] == 'Female']"
   ]
  },
  {
   "cell_type": "code",
   "execution_count": 65,
   "id": "2ad050db",
   "metadata": {},
   "outputs": [],
   "source": [
    "not_having_laptop_female = female_students['Computer'].value_counts()"
   ]
  },
  {
   "cell_type": "code",
   "execution_count": 66,
   "id": "075cb360",
   "metadata": {},
   "outputs": [
    {
     "data": {
      "text/plain": [
       "Laptop     29\n",
       "Tablet      2\n",
       "Desktop     2\n",
       "Name: Computer, dtype: int64"
      ]
     },
     "execution_count": 66,
     "metadata": {},
     "output_type": "execute_result"
    }
   ],
   "source": [
    "not_having_laptop_female"
   ]
  },
  {
   "cell_type": "code",
   "execution_count": 67,
   "id": "b41aff88",
   "metadata": {},
   "outputs": [
    {
     "name": "stdout",
     "output_type": "stream",
     "text": [
      "Probability of female that not having laptop 12.1\n"
     ]
    }
   ],
   "source": [
    "#We can select tablet and desktop\n",
    "Total_female = 33\n",
    "#Tablet+Laptop is 2+2 = 4\n",
    "Not_laptop = 4\n",
    "prob_selected_female_student =round(Not_laptop/Total_female,3)*100\n",
    "print('Probability of female that not having laptop',prob_selected_female_student)"
   ]
  },
  {
   "cell_type": "markdown",
   "id": "6895b579",
   "metadata": {},
   "source": [
    "# 1.7. What is the probability that a randomly chosen student is a male or has full-time employment?"
   ]
  },
  {
   "cell_type": "code",
   "execution_count": 68,
   "id": "5092604d",
   "metadata": {},
   "outputs": [],
   "source": [
    "male_students = dataframe[dataframe['Gender'] == 'Male']"
   ]
  },
  {
   "cell_type": "code",
   "execution_count": 69,
   "id": "b3d79e70",
   "metadata": {},
   "outputs": [],
   "source": [
    "male_employment = male_students['Employment'].value_counts()"
   ]
  },
  {
   "cell_type": "code",
   "execution_count": 70,
   "id": "fe3bdf5a",
   "metadata": {},
   "outputs": [
    {
     "data": {
      "text/plain": [
       "Part-Time     19\n",
       "Full-Time      7\n",
       "Unemployed     3\n",
       "Name: Employment, dtype: int64"
      ]
     },
     "execution_count": 70,
     "metadata": {},
     "output_type": "execute_result"
    }
   ],
   "source": [
    "male_employment"
   ]
  },
  {
   "cell_type": "code",
   "execution_count": 71,
   "id": "ec456583",
   "metadata": {},
   "outputs": [
    {
     "name": "stdout",
     "output_type": "stream",
     "text": [
      "Probability of male in full time employment 24.14\n"
     ]
    }
   ],
   "source": [
    "Total_male = 29\n",
    "Full_Time = 7\n",
    "prob_selected_fulltime_male_student =round(Full_Time/Total_male,4)*100\n",
    "print('Probability of male in full time employment',prob_selected_fulltime_male_student)"
   ]
  },
  {
   "cell_type": "markdown",
   "id": "ff6446ad",
   "metadata": {},
   "source": [
    "# 1.8. What is the conditional probability that given a female student is randomly chosen, she is majoring in international business or management?\n",
    "\n"
   ]
  },
  {
   "cell_type": "code",
   "execution_count": 72,
   "id": "820e6776",
   "metadata": {},
   "outputs": [],
   "source": [
    "Total_Female = 33\n",
    "female_students = dataframe[dataframe['Gender'] == 'Female']\n",
    "Count_major= female_students['Major'].value_counts()"
   ]
  },
  {
   "cell_type": "code",
   "execution_count": 73,
   "id": "d61ec6db",
   "metadata": {},
   "outputs": [
    {
     "data": {
      "text/plain": [
       "Retailing/Marketing       9\n",
       "Economics/Finance         7\n",
       "Management                4\n",
       "International Business    4\n",
       "Other                     3\n",
       "CIS                       3\n",
       "Accounting                3\n",
       "Name: Major, dtype: int64"
      ]
     },
     "execution_count": 73,
     "metadata": {},
     "output_type": "execute_result"
    }
   ],
   "source": [
    "Count_major"
   ]
  },
  {
   "cell_type": "markdown",
   "id": "ba1a402a",
   "metadata": {},
   "source": [
    "# Management and International Business are same values(4)"
   ]
  },
  {
   "cell_type": "code",
   "execution_count": 74,
   "id": "2afaacf9",
   "metadata": {},
   "outputs": [
    {
     "name": "stdout",
     "output_type": "stream",
     "text": [
      "Probability of female in majoring international business or management 12.1\n"
     ]
    }
   ],
   "source": [
    "Total_Female = 33\n",
    "International_Business_or_management = 4\n",
    "prob_selected_management_or_International_Business = round(International_Business_or_management/Total_Female,3)*100\n",
    "print('Probability of female in majoring international business or management',prob_selected_management_or_International_Business)"
   ]
  },
  {
   "cell_type": "markdown",
   "id": "30a73de0",
   "metadata": {},
   "source": [
    "# 1.9. Construct a contingency table of Gender and Intent to Graduate at 2 levels (Yes/No). The Undecided students are not considered now and the table is a 2x2 table. Do you think the graduate intention and being female are independent events? "
   ]
  },
  {
   "cell_type": "code",
   "execution_count": 75,
   "id": "74f10c8a",
   "metadata": {},
   "outputs": [],
   "source": [
    "intent_yes_or_no = [\"Yes\",\"No\"]\n",
    "Grad_intent_2 = dataframe[dataframe['Grad Intention'].isin(intent_yes_or_no)]"
   ]
  },
  {
   "cell_type": "code",
   "execution_count": 76,
   "id": "d9e8e847",
   "metadata": {},
   "outputs": [
    {
     "data": {
      "text/html": [
       "<div>\n",
       "<style scoped>\n",
       "    .dataframe tbody tr th:only-of-type {\n",
       "        vertical-align: middle;\n",
       "    }\n",
       "\n",
       "    .dataframe tbody tr th {\n",
       "        vertical-align: top;\n",
       "    }\n",
       "\n",
       "    .dataframe thead th {\n",
       "        text-align: right;\n",
       "    }\n",
       "</style>\n",
       "<table border=\"1\" class=\"dataframe\">\n",
       "  <thead>\n",
       "    <tr style=\"text-align: right;\">\n",
       "      <th></th>\n",
       "      <th>ID</th>\n",
       "      <th>Gender</th>\n",
       "      <th>Age</th>\n",
       "      <th>Class</th>\n",
       "      <th>Major</th>\n",
       "      <th>Grad Intention</th>\n",
       "      <th>GPA</th>\n",
       "      <th>Employment</th>\n",
       "      <th>Salary</th>\n",
       "      <th>Social Networking</th>\n",
       "      <th>Satisfaction</th>\n",
       "      <th>Spending</th>\n",
       "      <th>Computer</th>\n",
       "      <th>Text Messages</th>\n",
       "    </tr>\n",
       "  </thead>\n",
       "  <tbody>\n",
       "    <tr>\n",
       "      <th>0</th>\n",
       "      <td>1</td>\n",
       "      <td>Female</td>\n",
       "      <td>20</td>\n",
       "      <td>Junior</td>\n",
       "      <td>Other</td>\n",
       "      <td>Yes</td>\n",
       "      <td>2.9</td>\n",
       "      <td>Full-Time</td>\n",
       "      <td>50.0</td>\n",
       "      <td>1</td>\n",
       "      <td>3</td>\n",
       "      <td>350</td>\n",
       "      <td>Laptop</td>\n",
       "      <td>200</td>\n",
       "    </tr>\n",
       "    <tr>\n",
       "      <th>1</th>\n",
       "      <td>2</td>\n",
       "      <td>Male</td>\n",
       "      <td>23</td>\n",
       "      <td>Senior</td>\n",
       "      <td>Management</td>\n",
       "      <td>Yes</td>\n",
       "      <td>3.6</td>\n",
       "      <td>Part-Time</td>\n",
       "      <td>25.0</td>\n",
       "      <td>1</td>\n",
       "      <td>4</td>\n",
       "      <td>360</td>\n",
       "      <td>Laptop</td>\n",
       "      <td>50</td>\n",
       "    </tr>\n",
       "    <tr>\n",
       "      <th>2</th>\n",
       "      <td>3</td>\n",
       "      <td>Male</td>\n",
       "      <td>21</td>\n",
       "      <td>Junior</td>\n",
       "      <td>Other</td>\n",
       "      <td>Yes</td>\n",
       "      <td>2.5</td>\n",
       "      <td>Part-Time</td>\n",
       "      <td>45.0</td>\n",
       "      <td>2</td>\n",
       "      <td>4</td>\n",
       "      <td>600</td>\n",
       "      <td>Laptop</td>\n",
       "      <td>200</td>\n",
       "    </tr>\n",
       "    <tr>\n",
       "      <th>3</th>\n",
       "      <td>4</td>\n",
       "      <td>Male</td>\n",
       "      <td>21</td>\n",
       "      <td>Junior</td>\n",
       "      <td>CIS</td>\n",
       "      <td>Yes</td>\n",
       "      <td>2.5</td>\n",
       "      <td>Full-Time</td>\n",
       "      <td>40.0</td>\n",
       "      <td>4</td>\n",
       "      <td>6</td>\n",
       "      <td>600</td>\n",
       "      <td>Laptop</td>\n",
       "      <td>250</td>\n",
       "    </tr>\n",
       "    <tr>\n",
       "      <th>8</th>\n",
       "      <td>9</td>\n",
       "      <td>Female</td>\n",
       "      <td>20</td>\n",
       "      <td>Junior</td>\n",
       "      <td>Management</td>\n",
       "      <td>Yes</td>\n",
       "      <td>3.6</td>\n",
       "      <td>Unemployed</td>\n",
       "      <td>30.0</td>\n",
       "      <td>0</td>\n",
       "      <td>4</td>\n",
       "      <td>500</td>\n",
       "      <td>Laptop</td>\n",
       "      <td>400</td>\n",
       "    </tr>\n",
       "    <tr>\n",
       "      <th>10</th>\n",
       "      <td>11</td>\n",
       "      <td>Female</td>\n",
       "      <td>23</td>\n",
       "      <td>Senior</td>\n",
       "      <td>Economics/Finance</td>\n",
       "      <td>Yes</td>\n",
       "      <td>2.8</td>\n",
       "      <td>Full-Time</td>\n",
       "      <td>50.0</td>\n",
       "      <td>2</td>\n",
       "      <td>5</td>\n",
       "      <td>400</td>\n",
       "      <td>Laptop</td>\n",
       "      <td>200</td>\n",
       "    </tr>\n",
       "    <tr>\n",
       "      <th>11</th>\n",
       "      <td>12</td>\n",
       "      <td>Male</td>\n",
       "      <td>21</td>\n",
       "      <td>Senior</td>\n",
       "      <td>Undecided</td>\n",
       "      <td>No</td>\n",
       "      <td>3.5</td>\n",
       "      <td>Full-Time</td>\n",
       "      <td>37.0</td>\n",
       "      <td>2</td>\n",
       "      <td>3</td>\n",
       "      <td>500</td>\n",
       "      <td>Laptop</td>\n",
       "      <td>100</td>\n",
       "    </tr>\n",
       "    <tr>\n",
       "      <th>14</th>\n",
       "      <td>15</td>\n",
       "      <td>Male</td>\n",
       "      <td>21</td>\n",
       "      <td>Senior</td>\n",
       "      <td>Management</td>\n",
       "      <td>Yes</td>\n",
       "      <td>3.2</td>\n",
       "      <td>Part-Time</td>\n",
       "      <td>54.0</td>\n",
       "      <td>3</td>\n",
       "      <td>4</td>\n",
       "      <td>600</td>\n",
       "      <td>Laptop</td>\n",
       "      <td>400</td>\n",
       "    </tr>\n",
       "    <tr>\n",
       "      <th>18</th>\n",
       "      <td>19</td>\n",
       "      <td>Male</td>\n",
       "      <td>19</td>\n",
       "      <td>Junior</td>\n",
       "      <td>Economics/Finance</td>\n",
       "      <td>Yes</td>\n",
       "      <td>3.5</td>\n",
       "      <td>Part-Time</td>\n",
       "      <td>52.0</td>\n",
       "      <td>2</td>\n",
       "      <td>5</td>\n",
       "      <td>500</td>\n",
       "      <td>Laptop</td>\n",
       "      <td>300</td>\n",
       "    </tr>\n",
       "    <tr>\n",
       "      <th>23</th>\n",
       "      <td>24</td>\n",
       "      <td>Male</td>\n",
       "      <td>22</td>\n",
       "      <td>Senior</td>\n",
       "      <td>Undecided</td>\n",
       "      <td>Yes</td>\n",
       "      <td>2.6</td>\n",
       "      <td>Full-Time</td>\n",
       "      <td>45.0</td>\n",
       "      <td>1</td>\n",
       "      <td>5</td>\n",
       "      <td>400</td>\n",
       "      <td>Laptop</td>\n",
       "      <td>600</td>\n",
       "    </tr>\n",
       "    <tr>\n",
       "      <th>24</th>\n",
       "      <td>25</td>\n",
       "      <td>Female</td>\n",
       "      <td>20</td>\n",
       "      <td>Junior</td>\n",
       "      <td>Economics/Finance</td>\n",
       "      <td>Yes</td>\n",
       "      <td>3.0</td>\n",
       "      <td>Part-Time</td>\n",
       "      <td>55.0</td>\n",
       "      <td>1</td>\n",
       "      <td>3</td>\n",
       "      <td>600</td>\n",
       "      <td>Laptop</td>\n",
       "      <td>300</td>\n",
       "    </tr>\n",
       "    <tr>\n",
       "      <th>25</th>\n",
       "      <td>26</td>\n",
       "      <td>Male</td>\n",
       "      <td>24</td>\n",
       "      <td>Senior</td>\n",
       "      <td>Management</td>\n",
       "      <td>Yes</td>\n",
       "      <td>3.3</td>\n",
       "      <td>Full-Time</td>\n",
       "      <td>60.0</td>\n",
       "      <td>0</td>\n",
       "      <td>1</td>\n",
       "      <td>300</td>\n",
       "      <td>Laptop</td>\n",
       "      <td>40</td>\n",
       "    </tr>\n",
       "    <tr>\n",
       "      <th>26</th>\n",
       "      <td>27</td>\n",
       "      <td>Male</td>\n",
       "      <td>20</td>\n",
       "      <td>Junior</td>\n",
       "      <td>Economics/Finance</td>\n",
       "      <td>Yes</td>\n",
       "      <td>3.1</td>\n",
       "      <td>Full-Time</td>\n",
       "      <td>65.0</td>\n",
       "      <td>1</td>\n",
       "      <td>5</td>\n",
       "      <td>375</td>\n",
       "      <td>Laptop</td>\n",
       "      <td>300</td>\n",
       "    </tr>\n",
       "    <tr>\n",
       "      <th>27</th>\n",
       "      <td>28</td>\n",
       "      <td>Female</td>\n",
       "      <td>20</td>\n",
       "      <td>Junior</td>\n",
       "      <td>International Business</td>\n",
       "      <td>Yes</td>\n",
       "      <td>2.9</td>\n",
       "      <td>Part-Time</td>\n",
       "      <td>50.0</td>\n",
       "      <td>3</td>\n",
       "      <td>1</td>\n",
       "      <td>900</td>\n",
       "      <td>Laptop</td>\n",
       "      <td>100</td>\n",
       "    </tr>\n",
       "    <tr>\n",
       "      <th>28</th>\n",
       "      <td>29</td>\n",
       "      <td>Male</td>\n",
       "      <td>22</td>\n",
       "      <td>Senior</td>\n",
       "      <td>Retailing/Marketing</td>\n",
       "      <td>Yes</td>\n",
       "      <td>3.3</td>\n",
       "      <td>Part-Time</td>\n",
       "      <td>55.0</td>\n",
       "      <td>1</td>\n",
       "      <td>6</td>\n",
       "      <td>1100</td>\n",
       "      <td>Laptop</td>\n",
       "      <td>60</td>\n",
       "    </tr>\n",
       "    <tr>\n",
       "      <th>31</th>\n",
       "      <td>32</td>\n",
       "      <td>Male</td>\n",
       "      <td>20</td>\n",
       "      <td>Junior</td>\n",
       "      <td>Other</td>\n",
       "      <td>Yes</td>\n",
       "      <td>2.9</td>\n",
       "      <td>Part-Time</td>\n",
       "      <td>47.0</td>\n",
       "      <td>3</td>\n",
       "      <td>1</td>\n",
       "      <td>300</td>\n",
       "      <td>Laptop</td>\n",
       "      <td>300</td>\n",
       "    </tr>\n",
       "    <tr>\n",
       "      <th>32</th>\n",
       "      <td>33</td>\n",
       "      <td>Male</td>\n",
       "      <td>20</td>\n",
       "      <td>Junior</td>\n",
       "      <td>Accounting</td>\n",
       "      <td>Yes</td>\n",
       "      <td>3.6</td>\n",
       "      <td>Part-Time</td>\n",
       "      <td>35.0</td>\n",
       "      <td>1</td>\n",
       "      <td>4</td>\n",
       "      <td>200</td>\n",
       "      <td>Laptop</td>\n",
       "      <td>70</td>\n",
       "    </tr>\n",
       "    <tr>\n",
       "      <th>33</th>\n",
       "      <td>34</td>\n",
       "      <td>Male</td>\n",
       "      <td>22</td>\n",
       "      <td>Senior</td>\n",
       "      <td>Retailing/Marketing</td>\n",
       "      <td>Yes</td>\n",
       "      <td>2.6</td>\n",
       "      <td>Full-Time</td>\n",
       "      <td>40.0</td>\n",
       "      <td>1</td>\n",
       "      <td>4</td>\n",
       "      <td>1400</td>\n",
       "      <td>Laptop</td>\n",
       "      <td>800</td>\n",
       "    </tr>\n",
       "    <tr>\n",
       "      <th>35</th>\n",
       "      <td>36</td>\n",
       "      <td>Female</td>\n",
       "      <td>26</td>\n",
       "      <td>Junior</td>\n",
       "      <td>Accounting</td>\n",
       "      <td>Yes</td>\n",
       "      <td>3.3</td>\n",
       "      <td>Part-Time</td>\n",
       "      <td>60.0</td>\n",
       "      <td>1</td>\n",
       "      <td>4</td>\n",
       "      <td>450</td>\n",
       "      <td>Desktop</td>\n",
       "      <td>300</td>\n",
       "    </tr>\n",
       "    <tr>\n",
       "      <th>36</th>\n",
       "      <td>37</td>\n",
       "      <td>Male</td>\n",
       "      <td>21</td>\n",
       "      <td>Senior</td>\n",
       "      <td>Management</td>\n",
       "      <td>Yes</td>\n",
       "      <td>3.1</td>\n",
       "      <td>Part-Time</td>\n",
       "      <td>40.0</td>\n",
       "      <td>1</td>\n",
       "      <td>4</td>\n",
       "      <td>500</td>\n",
       "      <td>Laptop</td>\n",
       "      <td>100</td>\n",
       "    </tr>\n",
       "    <tr>\n",
       "      <th>37</th>\n",
       "      <td>38</td>\n",
       "      <td>Female</td>\n",
       "      <td>21</td>\n",
       "      <td>Sophomore</td>\n",
       "      <td>Accounting</td>\n",
       "      <td>Yes</td>\n",
       "      <td>2.5</td>\n",
       "      <td>Part-Time</td>\n",
       "      <td>60.0</td>\n",
       "      <td>2</td>\n",
       "      <td>3</td>\n",
       "      <td>500</td>\n",
       "      <td>Laptop</td>\n",
       "      <td>600</td>\n",
       "    </tr>\n",
       "    <tr>\n",
       "      <th>38</th>\n",
       "      <td>39</td>\n",
       "      <td>Male</td>\n",
       "      <td>24</td>\n",
       "      <td>Junior</td>\n",
       "      <td>Economics/Finance</td>\n",
       "      <td>Yes</td>\n",
       "      <td>2.8</td>\n",
       "      <td>Part-Time</td>\n",
       "      <td>50.0</td>\n",
       "      <td>1</td>\n",
       "      <td>6</td>\n",
       "      <td>600</td>\n",
       "      <td>Laptop</td>\n",
       "      <td>50</td>\n",
       "    </tr>\n",
       "    <tr>\n",
       "      <th>39</th>\n",
       "      <td>40</td>\n",
       "      <td>Male</td>\n",
       "      <td>19</td>\n",
       "      <td>Sophomore</td>\n",
       "      <td>Retailing/Marketing</td>\n",
       "      <td>Yes</td>\n",
       "      <td>2.5</td>\n",
       "      <td>Unemployed</td>\n",
       "      <td>50.0</td>\n",
       "      <td>2</td>\n",
       "      <td>5</td>\n",
       "      <td>300</td>\n",
       "      <td>Laptop</td>\n",
       "      <td>100</td>\n",
       "    </tr>\n",
       "    <tr>\n",
       "      <th>40</th>\n",
       "      <td>41</td>\n",
       "      <td>Male</td>\n",
       "      <td>22</td>\n",
       "      <td>Junior</td>\n",
       "      <td>Accounting</td>\n",
       "      <td>Yes</td>\n",
       "      <td>3.2</td>\n",
       "      <td>Full-Time</td>\n",
       "      <td>60.0</td>\n",
       "      <td>1</td>\n",
       "      <td>4</td>\n",
       "      <td>680</td>\n",
       "      <td>Desktop</td>\n",
       "      <td>200</td>\n",
       "    </tr>\n",
       "    <tr>\n",
       "      <th>41</th>\n",
       "      <td>42</td>\n",
       "      <td>Female</td>\n",
       "      <td>20</td>\n",
       "      <td>Junior</td>\n",
       "      <td>Retailing/Marketing</td>\n",
       "      <td>No</td>\n",
       "      <td>3.3</td>\n",
       "      <td>Part-Time</td>\n",
       "      <td>30.0</td>\n",
       "      <td>1</td>\n",
       "      <td>4</td>\n",
       "      <td>600</td>\n",
       "      <td>Laptop</td>\n",
       "      <td>350</td>\n",
       "    </tr>\n",
       "    <tr>\n",
       "      <th>43</th>\n",
       "      <td>44</td>\n",
       "      <td>Female</td>\n",
       "      <td>21</td>\n",
       "      <td>Senior</td>\n",
       "      <td>Retailing/Marketing</td>\n",
       "      <td>No</td>\n",
       "      <td>3.9</td>\n",
       "      <td>Part-Time</td>\n",
       "      <td>30.0</td>\n",
       "      <td>1</td>\n",
       "      <td>5</td>\n",
       "      <td>100</td>\n",
       "      <td>Laptop</td>\n",
       "      <td>900</td>\n",
       "    </tr>\n",
       "    <tr>\n",
       "      <th>44</th>\n",
       "      <td>45</td>\n",
       "      <td>Female</td>\n",
       "      <td>21</td>\n",
       "      <td>Senior</td>\n",
       "      <td>International Business</td>\n",
       "      <td>No</td>\n",
       "      <td>3.0</td>\n",
       "      <td>Part-Time</td>\n",
       "      <td>30.0</td>\n",
       "      <td>2</td>\n",
       "      <td>5</td>\n",
       "      <td>650</td>\n",
       "      <td>Desktop</td>\n",
       "      <td>500</td>\n",
       "    </tr>\n",
       "    <tr>\n",
       "      <th>46</th>\n",
       "      <td>47</td>\n",
       "      <td>Female</td>\n",
       "      <td>20</td>\n",
       "      <td>Junior</td>\n",
       "      <td>Retailing/Marketing</td>\n",
       "      <td>Yes</td>\n",
       "      <td>3.5</td>\n",
       "      <td>Unemployed</td>\n",
       "      <td>60.0</td>\n",
       "      <td>1</td>\n",
       "      <td>3</td>\n",
       "      <td>350</td>\n",
       "      <td>Laptop</td>\n",
       "      <td>200</td>\n",
       "    </tr>\n",
       "    <tr>\n",
       "      <th>48</th>\n",
       "      <td>49</td>\n",
       "      <td>Female</td>\n",
       "      <td>21</td>\n",
       "      <td>Senior</td>\n",
       "      <td>Economics/Finance</td>\n",
       "      <td>Yes</td>\n",
       "      <td>3.2</td>\n",
       "      <td>Part-Time</td>\n",
       "      <td>47.5</td>\n",
       "      <td>2</td>\n",
       "      <td>4</td>\n",
       "      <td>220</td>\n",
       "      <td>Laptop</td>\n",
       "      <td>105</td>\n",
       "    </tr>\n",
       "    <tr>\n",
       "      <th>50</th>\n",
       "      <td>51</td>\n",
       "      <td>Female</td>\n",
       "      <td>21</td>\n",
       "      <td>Junior</td>\n",
       "      <td>Management</td>\n",
       "      <td>No</td>\n",
       "      <td>3.5</td>\n",
       "      <td>Unemployed</td>\n",
       "      <td>35.0</td>\n",
       "      <td>2</td>\n",
       "      <td>4</td>\n",
       "      <td>600</td>\n",
       "      <td>Tablet</td>\n",
       "      <td>100</td>\n",
       "    </tr>\n",
       "    <tr>\n",
       "      <th>51</th>\n",
       "      <td>52</td>\n",
       "      <td>Male</td>\n",
       "      <td>21</td>\n",
       "      <td>Senior</td>\n",
       "      <td>Management</td>\n",
       "      <td>No</td>\n",
       "      <td>3.0</td>\n",
       "      <td>Part-Time</td>\n",
       "      <td>50.0</td>\n",
       "      <td>1</td>\n",
       "      <td>4</td>\n",
       "      <td>500</td>\n",
       "      <td>Laptop</td>\n",
       "      <td>200</td>\n",
       "    </tr>\n",
       "    <tr>\n",
       "      <th>53</th>\n",
       "      <td>54</td>\n",
       "      <td>Male</td>\n",
       "      <td>21</td>\n",
       "      <td>Junior</td>\n",
       "      <td>Retailing/Marketing</td>\n",
       "      <td>No</td>\n",
       "      <td>3.4</td>\n",
       "      <td>Part-Time</td>\n",
       "      <td>40.0</td>\n",
       "      <td>1</td>\n",
       "      <td>5</td>\n",
       "      <td>500</td>\n",
       "      <td>Laptop</td>\n",
       "      <td>300</td>\n",
       "    </tr>\n",
       "    <tr>\n",
       "      <th>54</th>\n",
       "      <td>55</td>\n",
       "      <td>Male</td>\n",
       "      <td>21</td>\n",
       "      <td>Senior</td>\n",
       "      <td>Other</td>\n",
       "      <td>Yes</td>\n",
       "      <td>3.4</td>\n",
       "      <td>Part-Time</td>\n",
       "      <td>50.0</td>\n",
       "      <td>1</td>\n",
       "      <td>4</td>\n",
       "      <td>250</td>\n",
       "      <td>Desktop</td>\n",
       "      <td>700</td>\n",
       "    </tr>\n",
       "    <tr>\n",
       "      <th>55</th>\n",
       "      <td>56</td>\n",
       "      <td>Female</td>\n",
       "      <td>21</td>\n",
       "      <td>Senior</td>\n",
       "      <td>Retailing/Marketing</td>\n",
       "      <td>No</td>\n",
       "      <td>3.1</td>\n",
       "      <td>Part-Time</td>\n",
       "      <td>50.0</td>\n",
       "      <td>1</td>\n",
       "      <td>1</td>\n",
       "      <td>300</td>\n",
       "      <td>Laptop</td>\n",
       "      <td>300</td>\n",
       "    </tr>\n",
       "    <tr>\n",
       "      <th>56</th>\n",
       "      <td>57</td>\n",
       "      <td>Female</td>\n",
       "      <td>21</td>\n",
       "      <td>Senior</td>\n",
       "      <td>International Business</td>\n",
       "      <td>Yes</td>\n",
       "      <td>3.4</td>\n",
       "      <td>Part-Time</td>\n",
       "      <td>42.0</td>\n",
       "      <td>1</td>\n",
       "      <td>1</td>\n",
       "      <td>200</td>\n",
       "      <td>Laptop</td>\n",
       "      <td>100</td>\n",
       "    </tr>\n",
       "    <tr>\n",
       "      <th>57</th>\n",
       "      <td>58</td>\n",
       "      <td>Female</td>\n",
       "      <td>21</td>\n",
       "      <td>Senior</td>\n",
       "      <td>International Business</td>\n",
       "      <td>No</td>\n",
       "      <td>2.4</td>\n",
       "      <td>Part-Time</td>\n",
       "      <td>40.0</td>\n",
       "      <td>1</td>\n",
       "      <td>3</td>\n",
       "      <td>1000</td>\n",
       "      <td>Laptop</td>\n",
       "      <td>10</td>\n",
       "    </tr>\n",
       "    <tr>\n",
       "      <th>58</th>\n",
       "      <td>59</td>\n",
       "      <td>Female</td>\n",
       "      <td>20</td>\n",
       "      <td>Junior</td>\n",
       "      <td>CIS</td>\n",
       "      <td>No</td>\n",
       "      <td>2.9</td>\n",
       "      <td>Part-Time</td>\n",
       "      <td>40.0</td>\n",
       "      <td>2</td>\n",
       "      <td>4</td>\n",
       "      <td>350</td>\n",
       "      <td>Laptop</td>\n",
       "      <td>250</td>\n",
       "    </tr>\n",
       "    <tr>\n",
       "      <th>59</th>\n",
       "      <td>60</td>\n",
       "      <td>Female</td>\n",
       "      <td>20</td>\n",
       "      <td>Sophomore</td>\n",
       "      <td>CIS</td>\n",
       "      <td>No</td>\n",
       "      <td>2.5</td>\n",
       "      <td>Part-Time</td>\n",
       "      <td>55.0</td>\n",
       "      <td>1</td>\n",
       "      <td>4</td>\n",
       "      <td>500</td>\n",
       "      <td>Laptop</td>\n",
       "      <td>500</td>\n",
       "    </tr>\n",
       "    <tr>\n",
       "      <th>60</th>\n",
       "      <td>61</td>\n",
       "      <td>Female</td>\n",
       "      <td>23</td>\n",
       "      <td>Senior</td>\n",
       "      <td>Accounting</td>\n",
       "      <td>Yes</td>\n",
       "      <td>3.5</td>\n",
       "      <td>Part-Time</td>\n",
       "      <td>30.0</td>\n",
       "      <td>2</td>\n",
       "      <td>3</td>\n",
       "      <td>490</td>\n",
       "      <td>Laptop</td>\n",
       "      <td>50</td>\n",
       "    </tr>\n",
       "    <tr>\n",
       "      <th>61</th>\n",
       "      <td>62</td>\n",
       "      <td>Female</td>\n",
       "      <td>23</td>\n",
       "      <td>Senior</td>\n",
       "      <td>Economics/Finance</td>\n",
       "      <td>No</td>\n",
       "      <td>3.2</td>\n",
       "      <td>Part-Time</td>\n",
       "      <td>70.0</td>\n",
       "      <td>2</td>\n",
       "      <td>3</td>\n",
       "      <td>250</td>\n",
       "      <td>Laptop</td>\n",
       "      <td>0</td>\n",
       "    </tr>\n",
       "  </tbody>\n",
       "</table>\n",
       "</div>"
      ],
      "text/plain": [
       "    ID  Gender  Age      Class                   Major Grad Intention  GPA  \\\n",
       "0    1  Female   20     Junior                   Other            Yes  2.9   \n",
       "1    2    Male   23     Senior              Management            Yes  3.6   \n",
       "2    3    Male   21     Junior                   Other            Yes  2.5   \n",
       "3    4    Male   21     Junior                     CIS            Yes  2.5   \n",
       "8    9  Female   20     Junior              Management            Yes  3.6   \n",
       "10  11  Female   23     Senior       Economics/Finance            Yes  2.8   \n",
       "11  12    Male   21     Senior               Undecided             No  3.5   \n",
       "14  15    Male   21     Senior              Management            Yes  3.2   \n",
       "18  19    Male   19     Junior       Economics/Finance            Yes  3.5   \n",
       "23  24    Male   22     Senior               Undecided            Yes  2.6   \n",
       "24  25  Female   20     Junior       Economics/Finance            Yes  3.0   \n",
       "25  26    Male   24     Senior              Management            Yes  3.3   \n",
       "26  27    Male   20     Junior       Economics/Finance            Yes  3.1   \n",
       "27  28  Female   20     Junior  International Business            Yes  2.9   \n",
       "28  29    Male   22     Senior     Retailing/Marketing            Yes  3.3   \n",
       "31  32    Male   20     Junior                   Other            Yes  2.9   \n",
       "32  33    Male   20     Junior              Accounting            Yes  3.6   \n",
       "33  34    Male   22     Senior     Retailing/Marketing            Yes  2.6   \n",
       "35  36  Female   26     Junior              Accounting            Yes  3.3   \n",
       "36  37    Male   21     Senior              Management            Yes  3.1   \n",
       "37  38  Female   21  Sophomore              Accounting            Yes  2.5   \n",
       "38  39    Male   24     Junior       Economics/Finance            Yes  2.8   \n",
       "39  40    Male   19  Sophomore     Retailing/Marketing            Yes  2.5   \n",
       "40  41    Male   22     Junior              Accounting            Yes  3.2   \n",
       "41  42  Female   20     Junior     Retailing/Marketing             No  3.3   \n",
       "43  44  Female   21     Senior     Retailing/Marketing             No  3.9   \n",
       "44  45  Female   21     Senior  International Business             No  3.0   \n",
       "46  47  Female   20     Junior     Retailing/Marketing            Yes  3.5   \n",
       "48  49  Female   21     Senior       Economics/Finance            Yes  3.2   \n",
       "50  51  Female   21     Junior              Management             No  3.5   \n",
       "51  52    Male   21     Senior              Management             No  3.0   \n",
       "53  54    Male   21     Junior     Retailing/Marketing             No  3.4   \n",
       "54  55    Male   21     Senior                   Other            Yes  3.4   \n",
       "55  56  Female   21     Senior     Retailing/Marketing             No  3.1   \n",
       "56  57  Female   21     Senior  International Business            Yes  3.4   \n",
       "57  58  Female   21     Senior  International Business             No  2.4   \n",
       "58  59  Female   20     Junior                     CIS             No  2.9   \n",
       "59  60  Female   20  Sophomore                     CIS             No  2.5   \n",
       "60  61  Female   23     Senior              Accounting            Yes  3.5   \n",
       "61  62  Female   23     Senior       Economics/Finance             No  3.2   \n",
       "\n",
       "    Employment  Salary  Social Networking  Satisfaction  Spending Computer  \\\n",
       "0    Full-Time    50.0                  1             3       350   Laptop   \n",
       "1    Part-Time    25.0                  1             4       360   Laptop   \n",
       "2    Part-Time    45.0                  2             4       600   Laptop   \n",
       "3    Full-Time    40.0                  4             6       600   Laptop   \n",
       "8   Unemployed    30.0                  0             4       500   Laptop   \n",
       "10   Full-Time    50.0                  2             5       400   Laptop   \n",
       "11   Full-Time    37.0                  2             3       500   Laptop   \n",
       "14   Part-Time    54.0                  3             4       600   Laptop   \n",
       "18   Part-Time    52.0                  2             5       500   Laptop   \n",
       "23   Full-Time    45.0                  1             5       400   Laptop   \n",
       "24   Part-Time    55.0                  1             3       600   Laptop   \n",
       "25   Full-Time    60.0                  0             1       300   Laptop   \n",
       "26   Full-Time    65.0                  1             5       375   Laptop   \n",
       "27   Part-Time    50.0                  3             1       900   Laptop   \n",
       "28   Part-Time    55.0                  1             6      1100   Laptop   \n",
       "31   Part-Time    47.0                  3             1       300   Laptop   \n",
       "32   Part-Time    35.0                  1             4       200   Laptop   \n",
       "33   Full-Time    40.0                  1             4      1400   Laptop   \n",
       "35   Part-Time    60.0                  1             4       450  Desktop   \n",
       "36   Part-Time    40.0                  1             4       500   Laptop   \n",
       "37   Part-Time    60.0                  2             3       500   Laptop   \n",
       "38   Part-Time    50.0                  1             6       600   Laptop   \n",
       "39  Unemployed    50.0                  2             5       300   Laptop   \n",
       "40   Full-Time    60.0                  1             4       680  Desktop   \n",
       "41   Part-Time    30.0                  1             4       600   Laptop   \n",
       "43   Part-Time    30.0                  1             5       100   Laptop   \n",
       "44   Part-Time    30.0                  2             5       650  Desktop   \n",
       "46  Unemployed    60.0                  1             3       350   Laptop   \n",
       "48   Part-Time    47.5                  2             4       220   Laptop   \n",
       "50  Unemployed    35.0                  2             4       600   Tablet   \n",
       "51   Part-Time    50.0                  1             4       500   Laptop   \n",
       "53   Part-Time    40.0                  1             5       500   Laptop   \n",
       "54   Part-Time    50.0                  1             4       250  Desktop   \n",
       "55   Part-Time    50.0                  1             1       300   Laptop   \n",
       "56   Part-Time    42.0                  1             1       200   Laptop   \n",
       "57   Part-Time    40.0                  1             3      1000   Laptop   \n",
       "58   Part-Time    40.0                  2             4       350   Laptop   \n",
       "59   Part-Time    55.0                  1             4       500   Laptop   \n",
       "60   Part-Time    30.0                  2             3       490   Laptop   \n",
       "61   Part-Time    70.0                  2             3       250   Laptop   \n",
       "\n",
       "    Text Messages  \n",
       "0             200  \n",
       "1              50  \n",
       "2             200  \n",
       "3             250  \n",
       "8             400  \n",
       "10            200  \n",
       "11            100  \n",
       "14            400  \n",
       "18            300  \n",
       "23            600  \n",
       "24            300  \n",
       "25             40  \n",
       "26            300  \n",
       "27            100  \n",
       "28             60  \n",
       "31            300  \n",
       "32             70  \n",
       "33            800  \n",
       "35            300  \n",
       "36            100  \n",
       "37            600  \n",
       "38             50  \n",
       "39            100  \n",
       "40            200  \n",
       "41            350  \n",
       "43            900  \n",
       "44            500  \n",
       "46            200  \n",
       "48            105  \n",
       "50            100  \n",
       "51            200  \n",
       "53            300  \n",
       "54            700  \n",
       "55            300  \n",
       "56            100  \n",
       "57             10  \n",
       "58            250  \n",
       "59            500  \n",
       "60             50  \n",
       "61              0  "
      ]
     },
     "execution_count": 76,
     "metadata": {},
     "output_type": "execute_result"
    }
   ],
   "source": [
    " Grad_intent_2"
   ]
  },
  {
   "cell_type": "code",
   "execution_count": 130,
   "id": "fd6439ee",
   "metadata": {},
   "outputs": [
    {
     "data": {
      "text/html": [
       "<div>\n",
       "<style scoped>\n",
       "    .dataframe tbody tr th:only-of-type {\n",
       "        vertical-align: middle;\n",
       "    }\n",
       "\n",
       "    .dataframe tbody tr th {\n",
       "        vertical-align: top;\n",
       "    }\n",
       "\n",
       "    .dataframe thead th {\n",
       "        text-align: right;\n",
       "    }\n",
       "</style>\n",
       "<table border=\"1\" class=\"dataframe\">\n",
       "  <thead>\n",
       "    <tr style=\"text-align: right;\">\n",
       "      <th></th>\n",
       "      <th>ID</th>\n",
       "      <th>Gender</th>\n",
       "      <th>Age</th>\n",
       "      <th>Class</th>\n",
       "      <th>Major</th>\n",
       "      <th>Grad Intention</th>\n",
       "      <th>GPA</th>\n",
       "      <th>Employment</th>\n",
       "      <th>Salary</th>\n",
       "      <th>Social Networking</th>\n",
       "      <th>Satisfaction</th>\n",
       "      <th>Spending</th>\n",
       "      <th>Computer</th>\n",
       "      <th>Text Messages</th>\n",
       "    </tr>\n",
       "  </thead>\n",
       "  <tbody>\n",
       "    <tr>\n",
       "      <th>0</th>\n",
       "      <td>1</td>\n",
       "      <td>Female</td>\n",
       "      <td>20</td>\n",
       "      <td>Junior</td>\n",
       "      <td>Other</td>\n",
       "      <td>Yes</td>\n",
       "      <td>2.9</td>\n",
       "      <td>Full-Time</td>\n",
       "      <td>50.0</td>\n",
       "      <td>1</td>\n",
       "      <td>3</td>\n",
       "      <td>350</td>\n",
       "      <td>Laptop</td>\n",
       "      <td>200</td>\n",
       "    </tr>\n",
       "    <tr>\n",
       "      <th>1</th>\n",
       "      <td>2</td>\n",
       "      <td>Male</td>\n",
       "      <td>23</td>\n",
       "      <td>Senior</td>\n",
       "      <td>Management</td>\n",
       "      <td>Yes</td>\n",
       "      <td>3.6</td>\n",
       "      <td>Part-Time</td>\n",
       "      <td>25.0</td>\n",
       "      <td>1</td>\n",
       "      <td>4</td>\n",
       "      <td>360</td>\n",
       "      <td>Laptop</td>\n",
       "      <td>50</td>\n",
       "    </tr>\n",
       "    <tr>\n",
       "      <th>2</th>\n",
       "      <td>3</td>\n",
       "      <td>Male</td>\n",
       "      <td>21</td>\n",
       "      <td>Junior</td>\n",
       "      <td>Other</td>\n",
       "      <td>Yes</td>\n",
       "      <td>2.5</td>\n",
       "      <td>Part-Time</td>\n",
       "      <td>45.0</td>\n",
       "      <td>2</td>\n",
       "      <td>4</td>\n",
       "      <td>600</td>\n",
       "      <td>Laptop</td>\n",
       "      <td>200</td>\n",
       "    </tr>\n",
       "    <tr>\n",
       "      <th>3</th>\n",
       "      <td>4</td>\n",
       "      <td>Male</td>\n",
       "      <td>21</td>\n",
       "      <td>Junior</td>\n",
       "      <td>CIS</td>\n",
       "      <td>Yes</td>\n",
       "      <td>2.5</td>\n",
       "      <td>Full-Time</td>\n",
       "      <td>40.0</td>\n",
       "      <td>4</td>\n",
       "      <td>6</td>\n",
       "      <td>600</td>\n",
       "      <td>Laptop</td>\n",
       "      <td>250</td>\n",
       "    </tr>\n",
       "    <tr>\n",
       "      <th>8</th>\n",
       "      <td>9</td>\n",
       "      <td>Female</td>\n",
       "      <td>20</td>\n",
       "      <td>Junior</td>\n",
       "      <td>Management</td>\n",
       "      <td>Yes</td>\n",
       "      <td>3.6</td>\n",
       "      <td>Unemployed</td>\n",
       "      <td>30.0</td>\n",
       "      <td>0</td>\n",
       "      <td>4</td>\n",
       "      <td>500</td>\n",
       "      <td>Laptop</td>\n",
       "      <td>400</td>\n",
       "    </tr>\n",
       "    <tr>\n",
       "      <th>10</th>\n",
       "      <td>11</td>\n",
       "      <td>Female</td>\n",
       "      <td>23</td>\n",
       "      <td>Senior</td>\n",
       "      <td>Economics/Finance</td>\n",
       "      <td>Yes</td>\n",
       "      <td>2.8</td>\n",
       "      <td>Full-Time</td>\n",
       "      <td>50.0</td>\n",
       "      <td>2</td>\n",
       "      <td>5</td>\n",
       "      <td>400</td>\n",
       "      <td>Laptop</td>\n",
       "      <td>200</td>\n",
       "    </tr>\n",
       "    <tr>\n",
       "      <th>11</th>\n",
       "      <td>12</td>\n",
       "      <td>Male</td>\n",
       "      <td>21</td>\n",
       "      <td>Senior</td>\n",
       "      <td>Undecided</td>\n",
       "      <td>No</td>\n",
       "      <td>3.5</td>\n",
       "      <td>Full-Time</td>\n",
       "      <td>37.0</td>\n",
       "      <td>2</td>\n",
       "      <td>3</td>\n",
       "      <td>500</td>\n",
       "      <td>Laptop</td>\n",
       "      <td>100</td>\n",
       "    </tr>\n",
       "    <tr>\n",
       "      <th>14</th>\n",
       "      <td>15</td>\n",
       "      <td>Male</td>\n",
       "      <td>21</td>\n",
       "      <td>Senior</td>\n",
       "      <td>Management</td>\n",
       "      <td>Yes</td>\n",
       "      <td>3.2</td>\n",
       "      <td>Part-Time</td>\n",
       "      <td>54.0</td>\n",
       "      <td>3</td>\n",
       "      <td>4</td>\n",
       "      <td>600</td>\n",
       "      <td>Laptop</td>\n",
       "      <td>400</td>\n",
       "    </tr>\n",
       "    <tr>\n",
       "      <th>18</th>\n",
       "      <td>19</td>\n",
       "      <td>Male</td>\n",
       "      <td>19</td>\n",
       "      <td>Junior</td>\n",
       "      <td>Economics/Finance</td>\n",
       "      <td>Yes</td>\n",
       "      <td>3.5</td>\n",
       "      <td>Part-Time</td>\n",
       "      <td>52.0</td>\n",
       "      <td>2</td>\n",
       "      <td>5</td>\n",
       "      <td>500</td>\n",
       "      <td>Laptop</td>\n",
       "      <td>300</td>\n",
       "    </tr>\n",
       "    <tr>\n",
       "      <th>23</th>\n",
       "      <td>24</td>\n",
       "      <td>Male</td>\n",
       "      <td>22</td>\n",
       "      <td>Senior</td>\n",
       "      <td>Undecided</td>\n",
       "      <td>Yes</td>\n",
       "      <td>2.6</td>\n",
       "      <td>Full-Time</td>\n",
       "      <td>45.0</td>\n",
       "      <td>1</td>\n",
       "      <td>5</td>\n",
       "      <td>400</td>\n",
       "      <td>Laptop</td>\n",
       "      <td>600</td>\n",
       "    </tr>\n",
       "  </tbody>\n",
       "</table>\n",
       "</div>"
      ],
      "text/plain": [
       "    ID  Gender  Age   Class              Major Grad Intention  GPA  \\\n",
       "0    1  Female   20  Junior              Other            Yes  2.9   \n",
       "1    2    Male   23  Senior         Management            Yes  3.6   \n",
       "2    3    Male   21  Junior              Other            Yes  2.5   \n",
       "3    4    Male   21  Junior                CIS            Yes  2.5   \n",
       "8    9  Female   20  Junior         Management            Yes  3.6   \n",
       "10  11  Female   23  Senior  Economics/Finance            Yes  2.8   \n",
       "11  12    Male   21  Senior          Undecided             No  3.5   \n",
       "14  15    Male   21  Senior         Management            Yes  3.2   \n",
       "18  19    Male   19  Junior  Economics/Finance            Yes  3.5   \n",
       "23  24    Male   22  Senior          Undecided            Yes  2.6   \n",
       "\n",
       "    Employment  Salary  Social Networking  Satisfaction  Spending Computer  \\\n",
       "0    Full-Time    50.0                  1             3       350   Laptop   \n",
       "1    Part-Time    25.0                  1             4       360   Laptop   \n",
       "2    Part-Time    45.0                  2             4       600   Laptop   \n",
       "3    Full-Time    40.0                  4             6       600   Laptop   \n",
       "8   Unemployed    30.0                  0             4       500   Laptop   \n",
       "10   Full-Time    50.0                  2             5       400   Laptop   \n",
       "11   Full-Time    37.0                  2             3       500   Laptop   \n",
       "14   Part-Time    54.0                  3             4       600   Laptop   \n",
       "18   Part-Time    52.0                  2             5       500   Laptop   \n",
       "23   Full-Time    45.0                  1             5       400   Laptop   \n",
       "\n",
       "    Text Messages  \n",
       "0             200  \n",
       "1              50  \n",
       "2             200  \n",
       "3             250  \n",
       "8             400  \n",
       "10            200  \n",
       "11            100  \n",
       "14            400  \n",
       "18            300  \n",
       "23            600  "
      ]
     },
     "execution_count": 130,
     "metadata": {},
     "output_type": "execute_result"
    }
   ],
   "source": [
    " Grad_intent_2.head(10)"
   ]
  },
  {
   "cell_type": "code",
   "execution_count": 78,
   "id": "fafc6630",
   "metadata": {},
   "outputs": [],
   "source": [
    "#Grad_intent = Grad_intent_2['Grad Intention'].value_counts()\n",
    "#Grad_intent"
   ]
  },
  {
   "cell_type": "code",
   "execution_count": 79,
   "id": "26897623",
   "metadata": {},
   "outputs": [],
   "source": [
    "female_students = Grad_intent_2[Grad_intent_2['Gender'] == 'Female']"
   ]
  },
  {
   "cell_type": "code",
   "execution_count": 128,
   "id": "0f09ba70",
   "metadata": {},
   "outputs": [
    {
     "data": {
      "text/html": [
       "<div>\n",
       "<style scoped>\n",
       "    .dataframe tbody tr th:only-of-type {\n",
       "        vertical-align: middle;\n",
       "    }\n",
       "\n",
       "    .dataframe tbody tr th {\n",
       "        vertical-align: top;\n",
       "    }\n",
       "\n",
       "    .dataframe thead th {\n",
       "        text-align: right;\n",
       "    }\n",
       "</style>\n",
       "<table border=\"1\" class=\"dataframe\">\n",
       "  <thead>\n",
       "    <tr style=\"text-align: right;\">\n",
       "      <th></th>\n",
       "      <th>ID</th>\n",
       "      <th>Gender</th>\n",
       "      <th>Age</th>\n",
       "      <th>Class</th>\n",
       "      <th>Major</th>\n",
       "      <th>Grad Intention</th>\n",
       "      <th>GPA</th>\n",
       "      <th>Employment</th>\n",
       "      <th>Salary</th>\n",
       "      <th>Social Networking</th>\n",
       "      <th>Satisfaction</th>\n",
       "      <th>Spending</th>\n",
       "      <th>Computer</th>\n",
       "      <th>Text Messages</th>\n",
       "    </tr>\n",
       "  </thead>\n",
       "  <tbody>\n",
       "    <tr>\n",
       "      <th>0</th>\n",
       "      <td>1</td>\n",
       "      <td>Female</td>\n",
       "      <td>20</td>\n",
       "      <td>Junior</td>\n",
       "      <td>Other</td>\n",
       "      <td>Yes</td>\n",
       "      <td>2.9</td>\n",
       "      <td>Full-Time</td>\n",
       "      <td>50.0</td>\n",
       "      <td>1</td>\n",
       "      <td>3</td>\n",
       "      <td>350</td>\n",
       "      <td>Laptop</td>\n",
       "      <td>200</td>\n",
       "    </tr>\n",
       "    <tr>\n",
       "      <th>8</th>\n",
       "      <td>9</td>\n",
       "      <td>Female</td>\n",
       "      <td>20</td>\n",
       "      <td>Junior</td>\n",
       "      <td>Management</td>\n",
       "      <td>Yes</td>\n",
       "      <td>3.6</td>\n",
       "      <td>Unemployed</td>\n",
       "      <td>30.0</td>\n",
       "      <td>0</td>\n",
       "      <td>4</td>\n",
       "      <td>500</td>\n",
       "      <td>Laptop</td>\n",
       "      <td>400</td>\n",
       "    </tr>\n",
       "    <tr>\n",
       "      <th>10</th>\n",
       "      <td>11</td>\n",
       "      <td>Female</td>\n",
       "      <td>23</td>\n",
       "      <td>Senior</td>\n",
       "      <td>Economics/Finance</td>\n",
       "      <td>Yes</td>\n",
       "      <td>2.8</td>\n",
       "      <td>Full-Time</td>\n",
       "      <td>50.0</td>\n",
       "      <td>2</td>\n",
       "      <td>5</td>\n",
       "      <td>400</td>\n",
       "      <td>Laptop</td>\n",
       "      <td>200</td>\n",
       "    </tr>\n",
       "    <tr>\n",
       "      <th>24</th>\n",
       "      <td>25</td>\n",
       "      <td>Female</td>\n",
       "      <td>20</td>\n",
       "      <td>Junior</td>\n",
       "      <td>Economics/Finance</td>\n",
       "      <td>Yes</td>\n",
       "      <td>3.0</td>\n",
       "      <td>Part-Time</td>\n",
       "      <td>55.0</td>\n",
       "      <td>1</td>\n",
       "      <td>3</td>\n",
       "      <td>600</td>\n",
       "      <td>Laptop</td>\n",
       "      <td>300</td>\n",
       "    </tr>\n",
       "    <tr>\n",
       "      <th>27</th>\n",
       "      <td>28</td>\n",
       "      <td>Female</td>\n",
       "      <td>20</td>\n",
       "      <td>Junior</td>\n",
       "      <td>International Business</td>\n",
       "      <td>Yes</td>\n",
       "      <td>2.9</td>\n",
       "      <td>Part-Time</td>\n",
       "      <td>50.0</td>\n",
       "      <td>3</td>\n",
       "      <td>1</td>\n",
       "      <td>900</td>\n",
       "      <td>Laptop</td>\n",
       "      <td>100</td>\n",
       "    </tr>\n",
       "    <tr>\n",
       "      <th>35</th>\n",
       "      <td>36</td>\n",
       "      <td>Female</td>\n",
       "      <td>26</td>\n",
       "      <td>Junior</td>\n",
       "      <td>Accounting</td>\n",
       "      <td>Yes</td>\n",
       "      <td>3.3</td>\n",
       "      <td>Part-Time</td>\n",
       "      <td>60.0</td>\n",
       "      <td>1</td>\n",
       "      <td>4</td>\n",
       "      <td>450</td>\n",
       "      <td>Desktop</td>\n",
       "      <td>300</td>\n",
       "    </tr>\n",
       "    <tr>\n",
       "      <th>37</th>\n",
       "      <td>38</td>\n",
       "      <td>Female</td>\n",
       "      <td>21</td>\n",
       "      <td>Sophomore</td>\n",
       "      <td>Accounting</td>\n",
       "      <td>Yes</td>\n",
       "      <td>2.5</td>\n",
       "      <td>Part-Time</td>\n",
       "      <td>60.0</td>\n",
       "      <td>2</td>\n",
       "      <td>3</td>\n",
       "      <td>500</td>\n",
       "      <td>Laptop</td>\n",
       "      <td>600</td>\n",
       "    </tr>\n",
       "    <tr>\n",
       "      <th>41</th>\n",
       "      <td>42</td>\n",
       "      <td>Female</td>\n",
       "      <td>20</td>\n",
       "      <td>Junior</td>\n",
       "      <td>Retailing/Marketing</td>\n",
       "      <td>No</td>\n",
       "      <td>3.3</td>\n",
       "      <td>Part-Time</td>\n",
       "      <td>30.0</td>\n",
       "      <td>1</td>\n",
       "      <td>4</td>\n",
       "      <td>600</td>\n",
       "      <td>Laptop</td>\n",
       "      <td>350</td>\n",
       "    </tr>\n",
       "    <tr>\n",
       "      <th>43</th>\n",
       "      <td>44</td>\n",
       "      <td>Female</td>\n",
       "      <td>21</td>\n",
       "      <td>Senior</td>\n",
       "      <td>Retailing/Marketing</td>\n",
       "      <td>No</td>\n",
       "      <td>3.9</td>\n",
       "      <td>Part-Time</td>\n",
       "      <td>30.0</td>\n",
       "      <td>1</td>\n",
       "      <td>5</td>\n",
       "      <td>100</td>\n",
       "      <td>Laptop</td>\n",
       "      <td>900</td>\n",
       "    </tr>\n",
       "    <tr>\n",
       "      <th>44</th>\n",
       "      <td>45</td>\n",
       "      <td>Female</td>\n",
       "      <td>21</td>\n",
       "      <td>Senior</td>\n",
       "      <td>International Business</td>\n",
       "      <td>No</td>\n",
       "      <td>3.0</td>\n",
       "      <td>Part-Time</td>\n",
       "      <td>30.0</td>\n",
       "      <td>2</td>\n",
       "      <td>5</td>\n",
       "      <td>650</td>\n",
       "      <td>Desktop</td>\n",
       "      <td>500</td>\n",
       "    </tr>\n",
       "  </tbody>\n",
       "</table>\n",
       "</div>"
      ],
      "text/plain": [
       "    ID  Gender  Age      Class                   Major Grad Intention  GPA  \\\n",
       "0    1  Female   20     Junior                   Other            Yes  2.9   \n",
       "8    9  Female   20     Junior              Management            Yes  3.6   \n",
       "10  11  Female   23     Senior       Economics/Finance            Yes  2.8   \n",
       "24  25  Female   20     Junior       Economics/Finance            Yes  3.0   \n",
       "27  28  Female   20     Junior  International Business            Yes  2.9   \n",
       "35  36  Female   26     Junior              Accounting            Yes  3.3   \n",
       "37  38  Female   21  Sophomore              Accounting            Yes  2.5   \n",
       "41  42  Female   20     Junior     Retailing/Marketing             No  3.3   \n",
       "43  44  Female   21     Senior     Retailing/Marketing             No  3.9   \n",
       "44  45  Female   21     Senior  International Business             No  3.0   \n",
       "\n",
       "    Employment  Salary  Social Networking  Satisfaction  Spending Computer  \\\n",
       "0    Full-Time    50.0                  1             3       350   Laptop   \n",
       "8   Unemployed    30.0                  0             4       500   Laptop   \n",
       "10   Full-Time    50.0                  2             5       400   Laptop   \n",
       "24   Part-Time    55.0                  1             3       600   Laptop   \n",
       "27   Part-Time    50.0                  3             1       900   Laptop   \n",
       "35   Part-Time    60.0                  1             4       450  Desktop   \n",
       "37   Part-Time    60.0                  2             3       500   Laptop   \n",
       "41   Part-Time    30.0                  1             4       600   Laptop   \n",
       "43   Part-Time    30.0                  1             5       100   Laptop   \n",
       "44   Part-Time    30.0                  2             5       650  Desktop   \n",
       "\n",
       "    Text Messages  \n",
       "0             200  \n",
       "8             400  \n",
       "10            200  \n",
       "24            300  \n",
       "27            100  \n",
       "35            300  \n",
       "37            600  \n",
       "41            350  \n",
       "43            900  \n",
       "44            500  "
      ]
     },
     "execution_count": 128,
     "metadata": {},
     "output_type": "execute_result"
    }
   ],
   "source": [
    "female_students.head(10)"
   ]
  },
  {
   "cell_type": "code",
   "execution_count": 81,
   "id": "1fea4623",
   "metadata": {},
   "outputs": [],
   "source": [
    "Grad_intent_gender = female_students['Grad Intention'].value_counts()"
   ]
  },
  {
   "cell_type": "code",
   "execution_count": 82,
   "id": "0096914f",
   "metadata": {},
   "outputs": [
    {
     "data": {
      "text/plain": [
       "Yes    11\n",
       "No      9\n",
       "Name: Grad Intention, dtype: int64"
      ]
     },
     "execution_count": 82,
     "metadata": {},
     "output_type": "execute_result"
    }
   ],
   "source": [
    "Grad_intent_gender"
   ]
  },
  {
   "cell_type": "code",
   "execution_count": 83,
   "id": "d517197a",
   "metadata": {},
   "outputs": [],
   "source": [
    "cont_table = pd.DataFrame({'Grad intent_yes':[11],'Grad_intent_no':[9]},index = ['Female'])"
   ]
  },
  {
   "cell_type": "markdown",
   "id": "2d8f5a06",
   "metadata": {},
   "source": [
    "\n",
    "\n",
    "\n",
    "\n",
    "\n",
    "# The Graduate Intention and female "
   ]
  },
  {
   "cell_type": "markdown",
   "id": "374b2b63",
   "metadata": {},
   "source": [
    "H0 = The Graduate intention and female are independent events\n",
    "H1 = The Graduate intention and female are not independent events"
   ]
  },
  {
   "cell_type": "raw",
   "id": "4aed389b",
   "metadata": {},
   "source": [
    "Significance level Alpha = 0.05 at the 95 % are confidence level."
   ]
  },
  {
   "cell_type": "code",
   "execution_count": 84,
   "id": "e4079aa1",
   "metadata": {},
   "outputs": [],
   "source": [
    "chi2, pval, dof, exp_freq = chi2_contingency(cont_table, correction = False)"
   ]
  },
  {
   "cell_type": "code",
   "execution_count": 85,
   "id": "f4e35a89",
   "metadata": {},
   "outputs": [
    {
     "data": {
      "text/plain": [
       "1.0"
      ]
     },
     "execution_count": 85,
     "metadata": {},
     "output_type": "execute_result"
    }
   ],
   "source": [
    "pval"
   ]
  },
  {
   "cell_type": "markdown",
   "id": "87c163f0",
   "metadata": {},
   "source": [
    "Since the p_value is > 0.05 so we fail to reject the null hypothesis so the graduate intention and female are independent events."
   ]
  },
  {
   "cell_type": "raw",
   "id": "77013315",
   "metadata": {},
   "source": [
    "As per the Probabilistic value, The Graduate intention and female are independent events"
   ]
  },
  {
   "cell_type": "markdown",
   "id": "418823f0",
   "metadata": {},
   "source": [
    "# 1.10. If a student is chosen randomly, what is the probability that his/her GPA is less than 3?"
   ]
  },
  {
   "cell_type": "code",
   "execution_count": 86,
   "id": "21fe3ef0",
   "metadata": {},
   "outputs": [
    {
     "data": {
      "text/plain": [
       "62"
      ]
     },
     "execution_count": 86,
     "metadata": {},
     "output_type": "execute_result"
    }
   ],
   "source": [
    "#If a student is chosen randomly, what is the probability that his/her GPA is less than 3?\n",
    "dataframe['Gender'].shape[0]"
   ]
  },
  {
   "cell_type": "code",
   "execution_count": 87,
   "id": "e5cb8a44",
   "metadata": {},
   "outputs": [],
   "source": [
    "loc = dataframe['GPA'].mean()"
   ]
  },
  {
   "cell_type": "code",
   "execution_count": 88,
   "id": "9c8b83ea",
   "metadata": {},
   "outputs": [
    {
     "data": {
      "text/plain": [
       "3.129032258064516"
      ]
     },
     "execution_count": 88,
     "metadata": {},
     "output_type": "execute_result"
    }
   ],
   "source": [
    "loc"
   ]
  },
  {
   "cell_type": "code",
   "execution_count": 89,
   "id": "cbbcee59",
   "metadata": {},
   "outputs": [],
   "source": [
    "std = dataframe['GPA'].std()"
   ]
  },
  {
   "cell_type": "code",
   "execution_count": 90,
   "id": "a98290fc",
   "metadata": {},
   "outputs": [
    {
     "data": {
      "text/plain": [
       "0.3773883926969118"
      ]
     },
     "execution_count": 90,
     "metadata": {},
     "output_type": "execute_result"
    }
   ],
   "source": [
    "std"
   ]
  },
  {
   "cell_type": "code",
   "execution_count": 91,
   "id": "068ad3bf",
   "metadata": {},
   "outputs": [
    {
     "data": {
      "text/plain": [
       "0.36266238732780337"
      ]
     },
     "execution_count": 91,
     "metadata": {},
     "output_type": "execute_result"
    }
   ],
   "source": [
    "stats.norm.cdf(3,loc = 3.13, scale = 0.37)"
   ]
  },
  {
   "cell_type": "markdown",
   "id": "2a6fbdf2",
   "metadata": {},
   "source": [
    "# The probability of less than 3 of his or her GPA is 0.362"
   ]
  },
  {
   "cell_type": "markdown",
   "id": "02790065",
   "metadata": {},
   "source": [
    "# 1.11. What is the conditional probability that a randomly selected male earns 50 or more? Find the conditional probability that a randomly selected female earns 50 or more."
   ]
  },
  {
   "cell_type": "code",
   "execution_count": 92,
   "id": "b65b31db",
   "metadata": {},
   "outputs": [
    {
     "data": {
      "text/plain": [
       "Female    33\n",
       "Male      29\n",
       "Name: Gender, dtype: int64"
      ]
     },
     "execution_count": 92,
     "metadata": {},
     "output_type": "execute_result"
    }
   ],
   "source": [
    "dataframe['Gender'].value_counts()"
   ]
  },
  {
   "cell_type": "code",
   "execution_count": 93,
   "id": "6a966a73",
   "metadata": {},
   "outputs": [],
   "source": [
    "Female = 33\n",
    "Male = 29"
   ]
  },
  {
   "cell_type": "markdown",
   "id": "b100e0ab",
   "metadata": {},
   "source": [
    "# Male"
   ]
  },
  {
   "cell_type": "code",
   "execution_count": 94,
   "id": "02fe7d9a",
   "metadata": {},
   "outputs": [],
   "source": [
    "Total_male = dataframe[dataframe['Gender']=='Male'].shape[0]"
   ]
  },
  {
   "cell_type": "code",
   "execution_count": 95,
   "id": "91cd876c",
   "metadata": {},
   "outputs": [
    {
     "data": {
      "text/plain": [
       "29"
      ]
     },
     "execution_count": 95,
     "metadata": {},
     "output_type": "execute_result"
    }
   ],
   "source": [
    "Total_male"
   ]
  },
  {
   "cell_type": "code",
   "execution_count": 96,
   "id": "4810f206",
   "metadata": {},
   "outputs": [],
   "source": [
    "earn_50_male_or_more = dataframe[(dataframe['Gender']=='Male') & (dataframe['Salary']>=50)].shape[0]"
   ]
  },
  {
   "cell_type": "code",
   "execution_count": 97,
   "id": "9f6c97c2",
   "metadata": {},
   "outputs": [
    {
     "data": {
      "text/plain": [
       "14"
      ]
     },
     "execution_count": 97,
     "metadata": {},
     "output_type": "execute_result"
    }
   ],
   "source": [
    "earn_50_male_or_more"
   ]
  },
  {
   "cell_type": "code",
   "execution_count": 98,
   "id": "bc4265a2",
   "metadata": {},
   "outputs": [
    {
     "name": "stdout",
     "output_type": "stream",
     "text": [
      "Probability of male in earn 50 or more 73.7\n"
     ]
    }
   ],
   "source": [
    "Total_male = 19\n",
    "earn_50_male_or_more = 14\n",
    "prob_male_earn_or_more = round(earn_50_male_or_more/Total_male,3)*100\n",
    "print('Probability of male in earn 50 or more',prob_male_earn_or_more)"
   ]
  },
  {
   "cell_type": "markdown",
   "id": "e88b6a52",
   "metadata": {},
   "source": [
    "# Female"
   ]
  },
  {
   "cell_type": "code",
   "execution_count": 99,
   "id": "da5aa30c",
   "metadata": {},
   "outputs": [],
   "source": [
    "Total_female = dataframe[dataframe['Gender']=='Female'].shape[0]"
   ]
  },
  {
   "cell_type": "code",
   "execution_count": 100,
   "id": "89919d9f",
   "metadata": {},
   "outputs": [
    {
     "data": {
      "text/plain": [
       "33"
      ]
     },
     "execution_count": 100,
     "metadata": {},
     "output_type": "execute_result"
    }
   ],
   "source": [
    "Total_female"
   ]
  },
  {
   "cell_type": "code",
   "execution_count": 101,
   "id": "354294cd",
   "metadata": {},
   "outputs": [],
   "source": [
    "earn_50_female_or_more = dataframe[(dataframe['Gender']=='Female') & (dataframe['Salary']>=50)].shape[0]"
   ]
  },
  {
   "cell_type": "code",
   "execution_count": 102,
   "id": "2e55ee27",
   "metadata": {},
   "outputs": [
    {
     "data": {
      "text/plain": [
       "18"
      ]
     },
     "execution_count": 102,
     "metadata": {},
     "output_type": "execute_result"
    }
   ],
   "source": [
    "earn_50_female_or_more"
   ]
  },
  {
   "cell_type": "code",
   "execution_count": 131,
   "id": "54c6673d",
   "metadata": {},
   "outputs": [
    {
     "name": "stdout",
     "output_type": "stream",
     "text": [
      "Probability of female in earn 50 or more 54.55\n"
     ]
    }
   ],
   "source": [
    "Total_female = 33\n",
    "earn_50_female_or_more = 18\n",
    "prob_female_earn_or_more = round(earn_50_female_or_more/Total_female,4)*100\n",
    "print('Probability of female in earn 50 or more',prob_female_earn_or_more)"
   ]
  },
  {
   "cell_type": "code",
   "execution_count": 104,
   "id": "46ba40a0",
   "metadata": {},
   "outputs": [
    {
     "data": {
      "image/png": "[encoded data removed]",
      "text/plain": [
       "<Figure size 600x400 with 1 Axes>"
      ]
     },
     "metadata": {},
     "output_type": "display_data"
    },
    {
     "data": {
      "image/png": "[encoded data removed]",
      "text/plain": [
       "<Figure size 600x400 with 1 Axes>"
      ]
     },
     "metadata": {},
     "output_type": "display_data"
    },
    {
     "data": {
      "image/png": "[encoded data removed]",
      "text/plain": [
       "<Figure size 600x400 with 1 Axes>"
      ]
     },
     "metadata": {},
     "output_type": "display_data"
    }
   ],
   "source": [
    "# Assuming your DataFrame is named dataframe and contains the relevant continuous variables\n",
    "GPA = dataframe['Age']\n",
    "Income = dataframe['GPA']\n",
    "Salary = dataframe['Salary']\n",
    "# List of continuous variables\n",
    "continuous_vars = ['Age','GPA','Salary']\n",
    "\n",
    "# Loop through each continuous variable and plot its distribution\n",
    "for var in continuous_vars:\n",
    "    plt.figure(figsize=(6, 4))\n",
    "    sns.histplot(dataframe[var], kde=True, color='skyblue')\n",
    "    plt.title(f'Distribution of {var}')\n",
    "    plt.xlabel(var)\n",
    "    plt.ylabel('Frequency')\n",
    "    plt.show()"
   ]
  },
  {
   "cell_type": "markdown",
   "id": "574c6a2e",
   "metadata": {},
   "source": [
    "# Problem 2 (Download DataView in a new window)\n",
    "\n",
    "An important quality characteristic used by the manufacturers of ABC asphalt shingles is the amount of moisture the shingles contain when they are packaged. Customers may feel that they have purchased a product lacking in quality if they find moisture and wet shingles inside the packaging.   In some cases, excessive moisture can cause the granules attached to the shingles for texture and coloring purposes to fall off the shingles resulting in appearance problems. To monitor the amount of moisture present, the company conducts moisture tests. A shingle is weighed and then dried. The shingle is then reweighed, and based on the amount of moisture taken out of the product, the pounds of moisture per 100 square feet is calculated. The company would like to show that the mean moisture content is less than 0.35 pounds per 100 square feet.\n",
    "\n",
    "The file (A & B shingles.csvView in a new window) includes 36 measurements (in pounds per 100 square feet) for A shingles and 31 for B shingles."
   ]
  },
  {
   "cell_type": "markdown",
   "id": "8ba5c898",
   "metadata": {},
   "source": [
    "2.1 Do you think there is evidence that means moisture contents in both types of shingles are within the permissible limits? State your conclusions clearly showing all steps."
   ]
  },
  {
   "cell_type": "code",
   "execution_count": 105,
   "id": "4f08e250",
   "metadata": {},
   "outputs": [],
   "source": [
    "df2 = pd.read_csv(\"A & B Shingles-1.csv\")"
   ]
  },
  {
   "cell_type": "code",
   "execution_count": 106,
   "id": "14c53909",
   "metadata": {},
   "outputs": [
    {
     "data": {
      "text/html": [
       "<div>\n",
       "<style scoped>\n",
       "    .dataframe tbody tr th:only-of-type {\n",
       "        vertical-align: middle;\n",
       "    }\n",
       "\n",
       "    .dataframe tbody tr th {\n",
       "        vertical-align: top;\n",
       "    }\n",
       "\n",
       "    .dataframe thead th {\n",
       "        text-align: right;\n",
       "    }\n",
       "</style>\n",
       "<table border=\"1\" class=\"dataframe\">\n",
       "  <thead>\n",
       "    <tr style=\"text-align: right;\">\n",
       "      <th></th>\n",
       "      <th>A</th>\n",
       "      <th>B</th>\n",
       "    </tr>\n",
       "  </thead>\n",
       "  <tbody>\n",
       "    <tr>\n",
       "      <th>0</th>\n",
       "      <td>0.44</td>\n",
       "      <td>0.14</td>\n",
       "    </tr>\n",
       "    <tr>\n",
       "      <th>1</th>\n",
       "      <td>0.61</td>\n",
       "      <td>0.15</td>\n",
       "    </tr>\n",
       "    <tr>\n",
       "      <th>2</th>\n",
       "      <td>0.47</td>\n",
       "      <td>0.31</td>\n",
       "    </tr>\n",
       "    <tr>\n",
       "      <th>3</th>\n",
       "      <td>0.30</td>\n",
       "      <td>0.16</td>\n",
       "    </tr>\n",
       "    <tr>\n",
       "      <th>4</th>\n",
       "      <td>0.15</td>\n",
       "      <td>0.37</td>\n",
       "    </tr>\n",
       "  </tbody>\n",
       "</table>\n",
       "</div>"
      ],
      "text/plain": [
       "      A     B\n",
       "0  0.44  0.14\n",
       "1  0.61  0.15\n",
       "2  0.47  0.31\n",
       "3  0.30  0.16\n",
       "4  0.15  0.37"
      ]
     },
     "execution_count": 106,
     "metadata": {},
     "output_type": "execute_result"
    }
   ],
   "source": [
    "df2.head()"
   ]
  },
  {
   "cell_type": "code",
   "execution_count": 107,
   "id": "78fc07b2",
   "metadata": {},
   "outputs": [],
   "source": [
    "df2['A'] = df2['A'].mean()"
   ]
  },
  {
   "cell_type": "code",
   "execution_count": 108,
   "id": "beb5126f",
   "metadata": {},
   "outputs": [],
   "source": [
    "df2['B'] = df2['B'].mean()"
   ]
  },
  {
   "cell_type": "code",
   "execution_count": 109,
   "id": "65cf9e20",
   "metadata": {},
   "outputs": [
    {
     "name": "stdout",
     "output_type": "stream",
     "text": [
      "sample size is 36\n"
     ]
    }
   ],
   "source": [
    "print(\"sample size is\", len(df2))"
   ]
  },
  {
   "cell_type": "markdown",
   "id": "f21cddbd",
   "metadata": {},
   "source": [
    "level of significance(Alpha) = 0.05\n",
    "μA:Population mean moisture content for type A shingles.\n",
    "μB:Population mean moisture content for type B shingles."
   ]
  },
  {
   "cell_type": "markdown",
   "id": "087ff9d6",
   "metadata": {},
   "source": [
    "Null Hypothesis = 0.35 = μA = μB\n",
    "Alternate Hypothesis < 0.35 that is μA <0.35 μB<0.35"
   ]
  },
  {
   "cell_type": "markdown",
   "id": "1f7b85eb",
   "metadata": {},
   "source": [
    "Calculate the P-Value and test statistic"
   ]
  },
  {
   "cell_type": "code",
   "execution_count": 110,
   "id": "bfd907ed",
   "metadata": {},
   "outputs": [
    {
     "name": "stdout",
     "output_type": "stream",
     "text": [
      "t_statistic inf p_value 0.0\n"
     ]
    },
    {
     "name": "stderr",
     "output_type": "stream",
     "text": [
      "C:\\Users\\admin\\AppData\\Local\\Temp\\ipykernel_8972\\2100715448.py:1: RuntimeWarning: Precision loss occurred in moment calculation due to catastrophic cancellation. This occurs when the data are nearly identical. Results may be unreliable.\n",
      "  t_statistic,p_value = ttest_ind(df2['A'],df2['B'])\n"
     ]
    }
   ],
   "source": [
    "t_statistic,p_value = ttest_ind(df2['A'],df2['B'])\n",
    "print('t_statistic',t_statistic,'p_value',p_value)"
   ]
  },
  {
   "cell_type": "code",
   "execution_count": 111,
   "id": "4e6b9c1c",
   "metadata": {},
   "outputs": [
    {
     "name": "stdout",
     "output_type": "stream",
     "text": [
      "two sample test p_values 0.0\n",
      "We have enough evidence to reject the null hypothesis in favour of alternative hypothesis\n",
      "We can conclude the both type of shingles are within permissible limits\n"
     ]
    }
   ],
   "source": [
    "alpha = 0.05\n",
    "print('two sample test p_values',p_value)\n",
    "if p_value<alpha:\n",
    "    print('We have enough evidence to reject the null hypothesis in favour of alternative hypothesis')\n",
    "    print('We can conclude the both type of shingles are within permissible limits')\n",
    "else:\n",
    "    print('We do not have enough evidence to reject the null hypothesis in favour of alternative hypothesis')\n",
    "    print('We can conclude the both type of shingles are not within permissible limits')"
   ]
  },
  {
   "cell_type": "markdown",
   "id": "b8650265",
   "metadata": {},
   "source": [
    "# 2.2 Do you think that the population mean for shingles A and B are equal? Form the hypothesis and conduct the test of the hypothesis. What assumption do you need to check before the test for equality of means is performed?\n"
   ]
  },
  {
   "cell_type": "code",
   "execution_count": 112,
   "id": "76b992e9",
   "metadata": {},
   "outputs": [],
   "source": [
    "# Sample data for shingles A and B\n",
    "shingles_A = df2['A']\n",
    "shingles_B = df2['B']"
   ]
  },
  {
   "cell_type": "code",
   "execution_count": 113,
   "id": "022e6b60",
   "metadata": {},
   "outputs": [
    {
     "name": "stdout",
     "output_type": "stream",
     "text": [
      "Levene's test p-value: LeveneResult(statistic=nan, pvalue=nan)\n"
     ]
    },
    {
     "name": "stderr",
     "output_type": "stream",
     "text": [
      "C:\\ProgramData\\anaconda3\\lib\\site-packages\\scipy\\stats\\_morestats.py:2710: RuntimeWarning: invalid value encountered in double_scalars\n",
      "  W = numer / denom\n"
     ]
    }
   ],
   "source": [
    "# Perform Levene's test for equal variances\n",
    "levene_pvalue = stats.levene(shingles_A, shingles_B)\n",
    "print(\"Levene's test p-value:\", levene_pvalue)"
   ]
  },
  {
   "cell_type": "code",
   "execution_count": 114,
   "id": "7be5fa75",
   "metadata": {},
   "outputs": [
    {
     "name": "stdout",
     "output_type": "stream",
     "text": [
      "Shapiro-Wilk test p-value for shingles A: 1.0\n",
      "Shapiro-Wilk test p-value for shingles B: 1.0\n"
     ]
    },
    {
     "name": "stderr",
     "output_type": "stream",
     "text": [
      "C:\\ProgramData\\anaconda3\\lib\\site-packages\\scipy\\stats\\_morestats.py:1813: UserWarning: Input data for shapiro has range zero. The results may not be accurate.\n",
      "  warnings.warn(\"Input data for shapiro has range zero. The results \"\n"
     ]
    }
   ],
   "source": [
    "# Perform Shapiro-Wilk test for normality (for both samples)\n",
    "shapiro_A = stats.shapiro(shingles_A)\n",
    "shapiro_B = stats.shapiro(shingles_B)\n",
    "print(\"Shapiro-Wilk test p-value for shingles A:\", shapiro_A.pvalue)\n",
    "print(\"Shapiro-Wilk test p-value for shingles B:\", shapiro_B.pvalue)"
   ]
  },
  {
   "cell_type": "code",
   "execution_count": 115,
   "id": "2733e34e",
   "metadata": {},
   "outputs": [
    {
     "name": "stdout",
     "output_type": "stream",
     "text": [
      "t-statistic: inf\n",
      "p-value: 0.0\n"
     ]
    },
    {
     "name": "stderr",
     "output_type": "stream",
     "text": [
      "C:\\Users\\admin\\AppData\\Local\\Temp\\ipykernel_8972\\2292088942.py:2: RuntimeWarning: Precision loss occurred in moment calculation due to catastrophic cancellation. This occurs when the data are nearly identical. Results may be unreliable.\n",
      "  t_statistic, p_value = stats.ttest_ind(shingles_A, shingles_B, equal_var=True)\n"
     ]
    }
   ],
   "source": [
    "# Perform two-sample t-test\n",
    "t_statistic, p_value = stats.ttest_ind(shingles_A, shingles_B, equal_var=True)\n",
    "print(\"t-statistic:\", t_statistic)\n",
    "print(\"p-value:\", p_value)"
   ]
  },
  {
   "cell_type": "markdown",
   "id": "335c1385",
   "metadata": {},
   "source": [
    "Alpha = 0.05\n",
    "Null Hypothesis is population means for Shingles A and Shingles B are Equal.\n",
    "Alternate Hypothesis is population mean for shingles A and B are not equal."
   ]
  },
  {
   "cell_type": "code",
   "execution_count": 116,
   "id": "54c4d748",
   "metadata": {},
   "outputs": [
    {
     "name": "stdout",
     "output_type": "stream",
     "text": [
      "two sample test p_values 0.0\n",
      "We can conclude means for shingles A and B are Equal\n"
     ]
    }
   ],
   "source": [
    "alpha = 0.05\n",
    "print('two sample test p_values',p_value)\n",
    "if p_value<alpha:\n",
    "    print('We can conclude means for shingles A and B are Equal')\n",
    "else:\n",
    "    print('We can conclude means for shingles A and B are not Equal')"
   ]
  },
  {
   "cell_type": "markdown",
   "id": "7622701d",
   "metadata": {},
   "source": [
    "Problem 3A:\n",
    "\n",
    "\n",
    "Salary is hypothesized to depend on educational qualification and occupation. To understand the dependency, the salaries of 40 individuals [SalaryData.csvView in a new window] are collected and each person’s educational qualification and occupation are noted. Educational qualification is at three levels, High school graduate, Bachelor's, and Doctorate. Occupation is at four levels, Administrative and clerical, Sales, Professional or specialty, and Executive or managerial. A different number of observations are in each level of education – occupation combination.\n",
    "\n",
    " [Assume that the data follows a normal distribution. In reality, the normality assumption may not always hold if the sample size is small.]\n",
    "\n",
    "1)State the null and the alternate hypothesis for conducting one-way ANOVA for both Education and Occupation individually.\n",
    "2)Perform a one-way ANOVA on Salary with respect to Education. State whether the null hypothesis is accepted or rejected based on the ANOVA results.\n",
    "3)Perform a one-way ANOVA on Salary with respect to Occupation. State whether the null hypothesis is accepted or rejected based on the ANOVA results.\n",
    "If the null hypothesis is rejected in either (2) or in (3), find out which class means are significantly different. Interpret the result. (Non-Graded)\n",
    "4)Perform a two-way ANOVA based on Salary with respect to both Education and Occupation (along with their interaction Education*Occupation). State the null and alternative hypotheses and state your results. \n",
    "5)How will you interpret this result?\n",
    "6)Explain the business implications of performing ANOVA for this particular case study.\n",
    "Please reflect on all that you have learned while working on this project. This step is critical in cementing all your concepts and closing the loop. Please write down your thoughts here."
   ]
  },
  {
   "cell_type": "markdown",
   "id": "b0e76d51",
   "metadata": {},
   "source": [
    "# 1.State the null and the alternate hypothesis for conducting one-way ANOVA for both Education and Occupation individually."
   ]
  },
  {
   "cell_type": "code",
   "execution_count": 117,
   "id": "3ea1b44d",
   "metadata": {},
   "outputs": [],
   "source": [
    "import os\n",
    "from statsmodels.formula.api import ols     \n",
    "from statsmodels.stats.anova import _get_covariance,anova_lm \n",
    "os = os.getcwd()"
   ]
  },
  {
   "cell_type": "code",
   "execution_count": 118,
   "id": "744da242",
   "metadata": {},
   "outputs": [
    {
     "data": {
      "text/plain": [
       "'C:\\\\Users\\\\admin\\\\Advanced Statistics\\\\Main project'"
      ]
     },
     "execution_count": 118,
     "metadata": {},
     "output_type": "execute_result"
    }
   ],
   "source": [
    "os"
   ]
  },
  {
   "cell_type": "code",
   "execution_count": 119,
   "id": "12c96a0f",
   "metadata": {},
   "outputs": [
    {
     "data": {
      "text/html": [
       "<div>\n",
       "<style scoped>\n",
       "    .dataframe tbody tr th:only-of-type {\n",
       "        vertical-align: middle;\n",
       "    }\n",
       "\n",
       "    .dataframe tbody tr th {\n",
       "        vertical-align: top;\n",
       "    }\n",
       "\n",
       "    .dataframe thead th {\n",
       "        text-align: right;\n",
       "    }\n",
       "</style>\n",
       "<table border=\"1\" class=\"dataframe\">\n",
       "  <thead>\n",
       "    <tr style=\"text-align: right;\">\n",
       "      <th></th>\n",
       "      <th>Education</th>\n",
       "      <th>Occupation</th>\n",
       "      <th>Salary</th>\n",
       "    </tr>\n",
       "  </thead>\n",
       "  <tbody>\n",
       "    <tr>\n",
       "      <th>0</th>\n",
       "      <td>Doctorate</td>\n",
       "      <td>Adm-clerical</td>\n",
       "      <td>153197</td>\n",
       "    </tr>\n",
       "    <tr>\n",
       "      <th>1</th>\n",
       "      <td>Doctorate</td>\n",
       "      <td>Adm-clerical</td>\n",
       "      <td>115945</td>\n",
       "    </tr>\n",
       "    <tr>\n",
       "      <th>2</th>\n",
       "      <td>Doctorate</td>\n",
       "      <td>Adm-clerical</td>\n",
       "      <td>175935</td>\n",
       "    </tr>\n",
       "    <tr>\n",
       "      <th>3</th>\n",
       "      <td>Doctorate</td>\n",
       "      <td>Adm-clerical</td>\n",
       "      <td>220754</td>\n",
       "    </tr>\n",
       "    <tr>\n",
       "      <th>4</th>\n",
       "      <td>Doctorate</td>\n",
       "      <td>Sales</td>\n",
       "      <td>170769</td>\n",
       "    </tr>\n",
       "  </tbody>\n",
       "</table>\n",
       "</div>"
      ],
      "text/plain": [
       "    Education     Occupation  Salary\n",
       "0   Doctorate   Adm-clerical  153197\n",
       "1   Doctorate   Adm-clerical  115945\n",
       "2   Doctorate   Adm-clerical  175935\n",
       "3   Doctorate   Adm-clerical  220754\n",
       "4   Doctorate          Sales  170769"
      ]
     },
     "execution_count": 119,
     "metadata": {},
     "output_type": "execute_result"
    }
   ],
   "source": [
    "df3 = pd.read_csv('SalaryData (2)-2.csv')\n",
    "df3.head()"
   ]
  },
  {
   "cell_type": "code",
   "execution_count": 120,
   "id": "88d1d461",
   "metadata": {},
   "outputs": [
    {
     "data": {
      "text/plain": [
       "(40, 3)"
      ]
     },
     "execution_count": 120,
     "metadata": {},
     "output_type": "execute_result"
    }
   ],
   "source": [
    "df3.shape"
   ]
  },
  {
   "cell_type": "code",
   "execution_count": 121,
   "id": "f25d0a5a",
   "metadata": {},
   "outputs": [
    {
     "name": "stdout",
     "output_type": "stream",
     "text": [
      "<class 'pandas.core.frame.DataFrame'>\n",
      "RangeIndex: 40 entries, 0 to 39\n",
      "Data columns (total 3 columns):\n",
      " #   Column      Non-Null Count  Dtype \n",
      "---  ------      --------------  ----- \n",
      " 0   Education   40 non-null     object\n",
      " 1   Occupation  40 non-null     object\n",
      " 2   Salary      40 non-null     int64 \n",
      "dtypes: int64(1), object(2)\n",
      "memory usage: 1.1+ KB\n"
     ]
    }
   ],
   "source": [
    "df3.info()"
   ]
  },
  {
   "cell_type": "code",
   "execution_count": 122,
   "id": "0af41f9e",
   "metadata": {},
   "outputs": [
    {
     "name": "stdout",
     "output_type": "stream",
     "text": [
      "<class 'pandas.core.frame.DataFrame'>\n",
      "RangeIndex: 40 entries, 0 to 39\n",
      "Data columns (total 3 columns):\n",
      " #   Column      Non-Null Count  Dtype \n",
      "---  ------      --------------  ----- \n",
      " 0   Education   40 non-null     object\n",
      " 1   Occupation  40 non-null     object\n",
      " 2   Salary      40 non-null     int64 \n",
      "dtypes: int64(1), object(2)\n",
      "memory usage: 1.1+ KB\n"
     ]
    }
   ],
   "source": [
    "df3.info()"
   ]
  },
  {
   "cell_type": "markdown",
   "id": "8046a6ff",
   "metadata": {},
   "source": [
    "# H0 - Null hypothesis - There is no significant difference between the salary across the different level of occupation"
   ]
  },
  {
   "cell_type": "markdown",
   "id": "5bc35e98",
   "metadata": {},
   "source": [
    "# Ha - alternative Hypothesis there is a significant difference between the salary across the different level of occupation"
   ]
  },
  {
   "cell_type": "code",
   "execution_count": 123,
   "id": "48659a0b",
   "metadata": {},
   "outputs": [
    {
     "name": "stdout",
     "output_type": "stream",
     "text": [
      "                 df        sum_sq       mean_sq         F    PR(>F)\n",
      "C(Occupation)   3.0  1.125878e+10  3.752928e+09  0.884144  0.458508\n",
      "Residual       36.0  1.528092e+11  4.244701e+09       NaN       NaN\n"
     ]
    }
   ],
   "source": [
    "formula = 'Salary ~ C(Occupation)'\n",
    "model = ols(formula, df3).fit()\n",
    "aov_table = anova_lm(model)\n",
    "print(aov_table)"
   ]
  },
  {
   "cell_type": "code",
   "execution_count": 124,
   "id": "948c98b6",
   "metadata": {},
   "outputs": [
    {
     "name": "stdout",
     "output_type": "stream",
     "text": [
      "                df        sum_sq       mean_sq         F        PR(>F)\n",
      "C(Education)   2.0  1.026955e+11  5.134773e+10  30.95628  1.257709e-08\n",
      "Residual      37.0  6.137256e+10  1.658718e+09       NaN           NaN\n"
     ]
    }
   ],
   "source": [
    "formula = 'Salary ~ C(Education)'\n",
    "model = ols(formula, df3).fit()\n",
    "aov_table = anova_lm(model)\n",
    "print(aov_table)"
   ]
  },
  {
   "cell_type": "markdown",
   "id": "b2b200ea",
   "metadata": {},
   "source": [
    "# p_value is 0.45 and 1.25 for occupation and education respectively.so as per the 95 % of confidence interval (significance_level alpha  = 0.05), we cannot reject the null hypothesis. "
   ]
  },
  {
   "cell_type": "markdown",
   "id": "75c46543",
   "metadata": {},
   "source": [
    "# Let's see any interaction between these 3 features"
   ]
  },
  {
   "cell_type": "code",
   "execution_count": 125,
   "id": "02f71bfc",
   "metadata": {},
   "outputs": [
    {
     "name": "stderr",
     "output_type": "stream",
     "text": [
      "C:\\Users\\admin\\AppData\\Local\\Temp\\ipykernel_8972\\1893094825.py:1: FutureWarning: \n",
      "\n",
      "The `ci` parameter is deprecated. Use `errorbar=None` for the same effect.\n",
      "\n",
      "  sns.pointplot(x='Occupation', y='Salary', hue='Education', data=df3, ci=None);\n"
     ]
    },
    {
     "data": {
      "image/png": "[encoded data removed]",
      "text/plain": [
       "<Figure size 640x480 with 1 Axes>"
      ]
     },
     "metadata": {},
     "output_type": "display_data"
    }
   ],
   "source": [
    "sns.pointplot(x='Occupation', y='Salary', hue='Education', data=df3, ci=None);"
   ]
  },
  {
   "cell_type": "markdown",
   "id": "5375430b",
   "metadata": {},
   "source": [
    "We can see some interaction in bachelors and doctors until 2 lakh"
   ]
  },
  {
   "cell_type": "markdown",
   "id": "4641c526",
   "metadata": {},
   "source": [
    "Unfortunately we didn't use the Tukey HSD test which is used to identify which class means are differently from each other."
   ]
  },
  {
   "cell_type": "markdown",
   "id": "e4e1ca3d",
   "metadata": {},
   "source": [
    "# Perform a two-way ANOVA based on Salary with respect to both Education and Occupation (along with their interaction Education*Occupation). State the null and alternative hypotheses and state your results. How will you interpret this result"
   ]
  },
  {
   "cell_type": "code",
   "execution_count": null,
   "id": "ef46d327",
   "metadata": {},
   "outputs": [],
   "source": []
  },
  {
   "cell_type": "code",
   "execution_count": 126,
   "id": "a8f383a4",
   "metadata": {},
   "outputs": [
    {
     "name": "stdout",
     "output_type": "stream",
     "text": [
      "<class 'pandas.core.frame.DataFrame'>\n",
      "RangeIndex: 40 entries, 0 to 39\n",
      "Data columns (total 3 columns):\n",
      " #   Column      Non-Null Count  Dtype \n",
      "---  ------      --------------  ----- \n",
      " 0   Education   40 non-null     object\n",
      " 1   Occupation  40 non-null     object\n",
      " 2   Salary      40 non-null     int64 \n",
      "dtypes: int64(1), object(2)\n",
      "memory usage: 1.1+ KB\n"
     ]
    }
   ],
   "source": [
    "df3.info()"
   ]
  },
  {
   "cell_type": "code",
   "execution_count": 127,
   "id": "4766f5e6",
   "metadata": {},
   "outputs": [
    {
     "data": {
      "text/html": [
       "<div>\n",
       "<style scoped>\n",
       "    .dataframe tbody tr th:only-of-type {\n",
       "        vertical-align: middle;\n",
       "    }\n",
       "\n",
       "    .dataframe tbody tr th {\n",
       "        vertical-align: top;\n",
       "    }\n",
       "\n",
       "    .dataframe thead th {\n",
       "        text-align: right;\n",
       "    }\n",
       "</style>\n",
       "<table border=\"1\" class=\"dataframe\">\n",
       "  <thead>\n",
       "    <tr style=\"text-align: right;\">\n",
       "      <th></th>\n",
       "      <th>df</th>\n",
       "      <th>sum_sq</th>\n",
       "      <th>mean_sq</th>\n",
       "      <th>F</th>\n",
       "      <th>PR(&gt;F)</th>\n",
       "    </tr>\n",
       "  </thead>\n",
       "  <tbody>\n",
       "    <tr>\n",
       "      <th>C(Occupation)</th>\n",
       "      <td>3.0</td>\n",
       "      <td>1.125878e+10</td>\n",
       "      <td>3.752928e+09</td>\n",
       "      <td>5.277862</td>\n",
       "      <td>4.993238e-03</td>\n",
       "    </tr>\n",
       "    <tr>\n",
       "      <th>C(Education)</th>\n",
       "      <td>2.0</td>\n",
       "      <td>9.695663e+10</td>\n",
       "      <td>4.847831e+10</td>\n",
       "      <td>68.176603</td>\n",
       "      <td>1.090908e-11</td>\n",
       "    </tr>\n",
       "    <tr>\n",
       "      <th>C(Occupation):C(Education)</th>\n",
       "      <td>6.0</td>\n",
       "      <td>3.523330e+10</td>\n",
       "      <td>5.872217e+09</td>\n",
       "      <td>8.258287</td>\n",
       "      <td>2.913740e-05</td>\n",
       "    </tr>\n",
       "    <tr>\n",
       "      <th>Residual</th>\n",
       "      <td>29.0</td>\n",
       "      <td>2.062102e+10</td>\n",
       "      <td>7.110697e+08</td>\n",
       "      <td>NaN</td>\n",
       "      <td>NaN</td>\n",
       "    </tr>\n",
       "  </tbody>\n",
       "</table>\n",
       "</div>"
      ],
      "text/plain": [
       "                              df        sum_sq       mean_sq          F  \\\n",
       "C(Occupation)                3.0  1.125878e+10  3.752928e+09   5.277862   \n",
       "C(Education)                 2.0  9.695663e+10  4.847831e+10  68.176603   \n",
       "C(Occupation):C(Education)   6.0  3.523330e+10  5.872217e+09   8.258287   \n",
       "Residual                    29.0  2.062102e+10  7.110697e+08        NaN   \n",
       "\n",
       "                                  PR(>F)  \n",
       "C(Occupation)               4.993238e-03  \n",
       "C(Education)                1.090908e-11  \n",
       "C(Occupation):C(Education)  2.913740e-05  \n",
       "Residual                             NaN  "
      ]
     },
     "execution_count": 127,
     "metadata": {},
     "output_type": "execute_result"
    }
   ],
   "source": [
    "formula = 'Salary ~ C(Occupation) + C(Education) + C(Occupation):C(Education)'\n",
    "model = ols(formula, df3).fit()\n",
    "aov_table = anova_lm(model)\n",
    "(aov_table)"
   ]
  },
  {
   "cell_type": "markdown",
   "id": "3a22d218",
   "metadata": {},
   "source": [
    "# Occupation and Education are the above significance level (0.05) so the p_value of occupation:education is 2.9137"
   ]
  },
  {
   "cell_type": "markdown",
   "id": "1183a11f",
   "metadata": {},
   "source": [
    "Null hypothesis: Salary is hypothesized to depend on educational qualification and occupation.\n",
    "\n",
    "Alternative hypothesis: Salary is not hypothesized to depend on educational qualification and occupation."
   ]
  },
  {
   "cell_type": "markdown",
   "id": "70d54030",
   "metadata": {},
   "source": [
    "# So we cannot reject the Null Hypothesis and hence salary is hypothesized to depend on educational qualification and occupation."
   ]
  },
  {
   "cell_type": "markdown",
   "id": "e4f8724c",
   "metadata": {},
   "source": [
    "Implementing ANOVA studies helps their significance difference in salary based on education, Occupation or their interacation"
   ]
  },
  {
   "cell_type": "markdown",
   "id": "cf9c5cc3",
   "metadata": {},
   "source": [
    "Understanding these difference can identify some  HR recruitmrent startegies and HR policies.Additionally identify the interaction between education and occupation is provided different factors from point plot diagram."
   ]
  },
  {
   "cell_type": "code",
   "execution_count": null,
   "id": "d3d6f5ec",
   "metadata": {},
   "outputs": [],
   "source": []
  },
  {
   "cell_type": "code",
   "execution_count": null,
   "id": "21dfb89f",
   "metadata": {},
   "outputs": [],
   "source": []
  },
  {
   "cell_type": "code",
   "execution_count": null,
   "id": "8508e4fb",
   "metadata": {},
   "outputs": [],
   "source": []
  },
  {
   "cell_type": "code",
   "execution_count": null,
   "id": "67a137c4",
   "metadata": {},
   "outputs": [],
   "source": []
  },
  {
   "cell_type": "code",
   "execution_count": null,
   "id": "5160b362",
   "metadata": {},
   "outputs": [],
   "source": []
  },
  {
   "cell_type": "code",
   "execution_count": null,
   "id": "c8d69637",
   "metadata": {},
   "outputs": [],
   "source": []
  },
  {
   "cell_type": "code",
   "execution_count": null,
   "id": "f5965112",
   "metadata": {},
   "outputs": [],
   "source": []
  },
  {
   "cell_type": "code",
   "execution_count": null,
   "id": "98d958c0",
   "metadata": {},
   "outputs": [],
   "source": []
  },
  {
   "cell_type": "code",
   "execution_count": null,
   "id": "36fad8d3",
   "metadata": {},
   "outputs": [],
   "source": []
  },
  {
   "cell_type": "code",
   "execution_count": null,
   "id": "2708defe",
   "metadata": {},
   "outputs": [],
   "source": []
  },
  {
   "cell_type": "code",
   "execution_count": null,
   "id": "70ae48c6",
   "metadata": {},
   "outputs": [],
   "source": []
  },
  {
   "cell_type": "code",
   "execution_count": null,
   "id": "a0b6a99c",
   "metadata": {},
   "outputs": [],
   "source": []
  },
  {
   "cell_type": "code",
   "execution_count": null,
   "id": "dc8f7085",
   "metadata": {},
   "outputs": [],
   "source": []
  },
  {
   "cell_type": "code",
   "execution_count": null,
   "id": "ebf01e03",
   "metadata": {},
   "outputs": [],
   "source": []
  },
  {
   "cell_type": "code",
   "execution_count": null,
   "id": "bf553bfb",
   "metadata": {},
   "outputs": [],
   "source": []
  },
  {
   "cell_type": "code",
   "execution_count": null,
   "id": "db67ef1e",
   "metadata": {},
   "outputs": [],
   "source": []
  },
  {
   "cell_type": "code",
   "execution_count": null,
   "id": "0ba12137",
   "metadata": {},
   "outputs": [],
   "source": []
  },
  {
   "cell_type": "code",
   "execution_count": null,
   "id": "fc935891",
   "metadata": {},
   "outputs": [],
   "source": []
  },
  {
   "cell_type": "code",
   "execution_count": null,
   "id": "5075aa54",
   "metadata": {},
   "outputs": [],
   "source": []
  },
  {
   "cell_type": "code",
   "execution_count": null,
   "id": "8cccc6d8",
   "metadata": {},
   "outputs": [],
   "source": []
  },
  {
   "cell_type": "code",
   "execution_count": null,
   "id": "f237cedc",
   "metadata": {},
   "outputs": [],
   "source": []
  },
  {
   "cell_type": "code",
   "execution_count": null,
   "id": "f8a0b2e5",
   "metadata": {},
   "outputs": [],
   "source": []
  },
  {
   "cell_type": "code",
   "execution_count": null,
   "id": "f466a8cc",
   "metadata": {},
   "outputs": [],
   "source": []
  },
  {
   "cell_type": "code",
   "execution_count": null,
   "id": "a0c60c62",
   "metadata": {},
   "outputs": [],
   "source": []
  },
  {
   "cell_type": "code",
   "execution_count": null,
   "id": "c9f1d572",
   "metadata": {},
   "outputs": [],
   "source": []
  },
  {
   "cell_type": "code",
   "execution_count": null,
   "id": "19f9d945",
   "metadata": {},
   "outputs": [],
   "source": []
  },
  {
   "cell_type": "code",
   "execution_count": null,
   "id": "42a152bf",
   "metadata": {},
   "outputs": [],
   "source": []
  },
  {
   "cell_type": "code",
   "execution_count": null,
   "id": "e2fdb3db",
   "metadata": {},
   "outputs": [],
   "source": []
  },
  {
   "cell_type": "code",
   "execution_count": null,
   "id": "f9529bf6",
   "metadata": {},
   "outputs": [],
   "source": []
  },
  {
   "cell_type": "code",
   "execution_count": null,
   "id": "6e61bfce",
   "metadata": {},
   "outputs": [],
   "source": []
  },
  {
   "cell_type": "code",
   "execution_count": null,
   "id": "1f08c96d",
   "metadata": {},
   "outputs": [],
   "source": []
  },
  {
   "cell_type": "code",
   "execution_count": null,
   "id": "32630261",
   "metadata": {},
   "outputs": [],
   "source": []
  },
  {
   "cell_type": "code",
   "execution_count": null,
   "id": "9be0aa4c",
   "metadata": {},
   "outputs": [],
   "source": []
  }
 ],
 "metadata": {
  "kernelspec": {
   "display_name": "Python 3 (ipykernel)",
   "language": "python",
   "name": "python3"
  },
  "language_info": {
   "codemirror_mode": {
    "name": "ipython",
    "version": 3
   },
   "file_extension": ".py",
   "mimetype": "text/x-python",
   "name": "python",
   "nbconvert_exporter": "python",
   "pygments_lexer": "ipython3",
   "version": "3.10.9"
  }
 },
 "nbformat": 4,
 "nbformat_minor": 5
}
